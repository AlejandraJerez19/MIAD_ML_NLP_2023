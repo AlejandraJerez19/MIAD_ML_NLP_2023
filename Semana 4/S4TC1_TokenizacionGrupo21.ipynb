{
 "cells": [
  {
   "cell_type": "markdown",
   "metadata": {
    "id": "sDqRHUqlnUdZ"
   },
   "source": [
    "![image info](https://raw.githubusercontent.com/albahnsen/MIAD_ML_and_NLP/main/images/banner_1.png)"
   ]
  },
  {
   "cell_type": "markdown",
   "metadata": {
    "id": "FtiX8cj-nUdc"
   },
   "source": [
    "# Taller: Tokenización de textos  \n",
    "\n",
    "En este taller podrán poner en práctica sus conocimientos sobre preprocesamiento de texto (tokenización). El taller está constituido por 5 puntos, en los cuales deberan seguir las intrucciones de cada numeral para su desarrollo."
   ]
  },
  {
   "cell_type": "markdown",
   "metadata": {
    "id": "jzR-x7t_nUdd"
   },
   "source": [
    "## Datos detección de toxicidad en comentarios\n",
    "\n",
    "En este taller se usará el conjunto de datos de detección de toxicidad en comentarios de la base de datos de Kaggle. Cada observación es un comentario que tiene como variable objetivo (target) la probabilidad de ser un comentario tóxico. El objetivo es predecir la toxicidad de cada comentario. Para más detalles pueden visitar el siguiente enlace: [datos](https://www.kaggle.com/c/jigsaw-unintended-bias-in-toxicity-classification/data)."
   ]
  },
  {
   "cell_type": "code",
   "execution_count": 1,
   "metadata": {
    "executionInfo": {
     "elapsed": 4,
     "status": "ok",
     "timestamp": 1682907937089,
     "user": {
      "displayName": "Camilo Grande",
      "userId": "01421718929608645902"
     },
     "user_tz": 300
    },
    "id": "gTIAj9rOnUdd"
   },
   "outputs": [],
   "source": [
    "import warnings\n",
    "warnings.filterwarnings('ignore')"
   ]
  },
  {
   "cell_type": "code",
   "execution_count": 2,
   "metadata": {
    "executionInfo": {
     "elapsed": 1805,
     "status": "ok",
     "timestamp": 1682907938891,
     "user": {
      "displayName": "Camilo Grande",
      "userId": "01421718929608645902"
     },
     "user_tz": 300
    },
    "id": "-Hr1E06nnUde"
   },
   "outputs": [],
   "source": [
    "# Importación librerías\n",
    "import pandas as pd\n",
    "import numpy as np\n",
    "import scipy as sp\n",
    "from sklearn.model_selection import train_test_split, cross_val_score\n",
    "from sklearn.feature_extraction.text import CountVectorizer, TfidfVectorizer\n",
    "from sklearn import metrics\n",
    "%matplotlib inline"
   ]
  },
  {
   "cell_type": "code",
   "execution_count": 3,
   "metadata": {
    "colab": {
     "base_uri": "https://localhost:8080/",
     "height": 206
    },
    "executionInfo": {
     "elapsed": 20810,
     "status": "ok",
     "timestamp": 1682907959697,
     "user": {
      "displayName": "Camilo Grande",
      "userId": "01421718929608645902"
     },
     "user_tz": 300
    },
    "id": "Eu9bIZzfnUdf",
    "outputId": "424225d8-8bf1-4ce3-a36f-2b8b8c68e5da"
   },
   "outputs": [
    {
     "data": {
      "text/html": [
       "<div>\n",
       "<style scoped>\n",
       "    .dataframe tbody tr th:only-of-type {\n",
       "        vertical-align: middle;\n",
       "    }\n",
       "\n",
       "    .dataframe tbody tr th {\n",
       "        vertical-align: top;\n",
       "    }\n",
       "\n",
       "    .dataframe thead th {\n",
       "        text-align: right;\n",
       "    }\n",
       "</style>\n",
       "<table border=\"1\" class=\"dataframe\">\n",
       "  <thead>\n",
       "    <tr style=\"text-align: right;\">\n",
       "      <th></th>\n",
       "      <th>id</th>\n",
       "      <th>comment_text</th>\n",
       "      <th>target</th>\n",
       "    </tr>\n",
       "  </thead>\n",
       "  <tbody>\n",
       "    <tr>\n",
       "      <th>0</th>\n",
       "      <td>6101457</td>\n",
       "      <td>What are you talking about? What group do Pete...</td>\n",
       "      <td>0.0</td>\n",
       "    </tr>\n",
       "    <tr>\n",
       "      <th>1</th>\n",
       "      <td>5342103</td>\n",
       "      <td>NO!, Let him, we need a Conservative government.</td>\n",
       "      <td>0.0</td>\n",
       "    </tr>\n",
       "    <tr>\n",
       "      <th>2</th>\n",
       "      <td>743361</td>\n",
       "      <td>Perhaps he took the \"power out of the Cardinal...</td>\n",
       "      <td>0.2</td>\n",
       "    </tr>\n",
       "    <tr>\n",
       "      <th>3</th>\n",
       "      <td>551008</td>\n",
       "      <td>As always, yours is dripping with sarcasm, whi...</td>\n",
       "      <td>0.0</td>\n",
       "    </tr>\n",
       "    <tr>\n",
       "      <th>4</th>\n",
       "      <td>865998</td>\n",
       "      <td>The dirty little secret is that the price rang...</td>\n",
       "      <td>0.3</td>\n",
       "    </tr>\n",
       "  </tbody>\n",
       "</table>\n",
       "</div>"
      ],
      "text/plain": [
       "        id                                       comment_text  target\n",
       "0  6101457  What are you talking about? What group do Pete...     0.0\n",
       "1  5342103   NO!, Let him, we need a Conservative government.     0.0\n",
       "2   743361  Perhaps he took the \"power out of the Cardinal...     0.2\n",
       "3   551008  As always, yours is dripping with sarcasm, whi...     0.0\n",
       "4   865998  The dirty little secret is that the price rang...     0.3"
      ]
     },
     "execution_count": 3,
     "metadata": {},
     "output_type": "execute_result"
    }
   ],
   "source": [
    "# Carga de datos de archivos .csv\n",
    "df = pd.read_csv('https://raw.githubusercontent.com/albahnsen/MIAD_ML_and_NLP/main/datasets/Toxicity.zip')\n",
    "df = df[['id','comment_text', 'target']]\n",
    "df.head()"
   ]
  },
  {
   "cell_type": "code",
   "execution_count": 4,
   "metadata": {
    "colab": {
     "base_uri": "https://localhost:8080/",
     "height": 448
    },
    "executionInfo": {
     "elapsed": 973,
     "status": "ok",
     "timestamp": 1682907960667,
     "user": {
      "displayName": "Camilo Grande",
      "userId": "01421718929608645902"
     },
     "user_tz": 300
    },
    "id": "EvyuKj5dnUdg",
    "outputId": "695a6550-353a-4000-c671-9f9c343371c2"
   },
   "outputs": [
    {
     "data": {
      "text/plain": [
       "<Axes: >"
      ]
     },
     "execution_count": 4,
     "metadata": {},
     "output_type": "execute_result"
    },
    {
     "data": {
      "image/png": "[encoded data removed]",
      "text/plain": [
       "<Figure size 640x480 with 1 Axes>"
      ]
     },
     "metadata": {},
     "output_type": "display_data"
    }
   ],
   "source": [
    "# Impresión histograma de variable de interés (y)\n",
    "df.target.hist()"
   ]
  },
  {
   "cell_type": "code",
   "execution_count": 5,
   "metadata": {
    "colab": {
     "base_uri": "https://localhost:8080/"
    },
    "executionInfo": {
     "elapsed": 10,
     "status": "ok",
     "timestamp": 1682907960668,
     "user": {
      "displayName": "Camilo Grande",
      "userId": "01421718929608645902"
     },
     "user_tz": 300
    },
    "id": "2PZiujA6nUdg",
    "outputId": "b10af024-e4ca-417e-80ab-a90dcf13cb09"
   },
   "outputs": [
    {
     "data": {
      "text/plain": [
       "count    541462.000000\n",
       "mean          0.102991\n",
       "std           0.196979\n",
       "min           0.000000\n",
       "25%           0.000000\n",
       "50%           0.000000\n",
       "75%           0.166667\n",
       "max           1.000000\n",
       "Name: target, dtype: float64"
      ]
     },
     "execution_count": 5,
     "metadata": {},
     "output_type": "execute_result"
    }
   ],
   "source": [
    "# Separación de variable de interés (y)\n",
    "y = df.target\n",
    "y.describe()"
   ]
  },
  {
   "cell_type": "code",
   "execution_count": 6,
   "metadata": {
    "executionInfo": {
     "elapsed": 9,
     "status": "ok",
     "timestamp": 1682907960670,
     "user": {
      "displayName": "Camilo Grande",
      "userId": "01421718929608645902"
     },
     "user_tz": 300
    },
    "id": "_pyE_FzjnUdh"
   },
   "outputs": [],
   "source": [
    "# Separación de variables predictoras (X), solo se considera el texto de la noticia\n",
    "X = df.comment_text"
   ]
  },
  {
   "cell_type": "code",
   "execution_count": 7,
   "metadata": {
    "executionInfo": {
     "elapsed": 556,
     "status": "ok",
     "timestamp": 1682907961218,
     "user": {
      "displayName": "Camilo Grande",
      "userId": "01421718929608645902"
     },
     "user_tz": 300
    },
    "id": "54NomJ4onUdh"
   },
   "outputs": [],
   "source": [
    "# Separación de datos en set de entrenamiento y test\n",
    "X_train, X_test, y_train, y_test = train_test_split(X, y, test_size=0.33, random_state=42)"
   ]
  },
  {
   "cell_type": "markdown",
   "metadata": {
    "id": "D6NTMkjTnUdi"
   },
   "source": [
    "## Punto 1 - Tokenización con CountVectorizer\n",
    "\n",
    "En la celda 1 creen y entrenen el modelo de regresión de su preferencia, para que prediga la probabilidad de que un comentario sea tóxico, usando los set de entrenamiento y test definidos anteriormente. Usen la función **CountVectorizer** para preprocesar los comentarios y presenten el desempeño del modelo con la métrica del MSE.\n",
    "\n",
    "Recuerden que el preprocesamiento que se haga sobre los datos de entrenamiento  (*.fit_transform()*) deben ser aplicado al set de test (*.transform()*)."
   ]
  },
  {
   "cell_type": "code",
   "execution_count": 10,
   "metadata": {
    "colab": {
     "base_uri": "https://localhost:8080/"
    },
    "executionInfo": {
     "elapsed": 50691,
     "status": "ok",
     "timestamp": 1682483724326,
     "user": {
      "displayName": "Alejandra Jerez Pardo",
      "userId": "12172939590678177758"
     },
     "user_tz": 300
    },
    "id": "tSG7em_inUdi",
    "outputId": "4b7738e7-5509-4b9e-9898-ec67d74b52f3"
   },
   "outputs": [
    {
     "name": "stdout",
     "output_type": "stream",
     "text": [
      "El modelo de XGBoost muestra un MSE de 0.0286451985271934 en el set de Test\n"
     ]
    },
    {
     "data": {
      "text/plain": [
       "(362779, 141176)"
      ]
     },
     "execution_count": 10,
     "metadata": {},
     "output_type": "execute_result"
    }
   ],
   "source": [
    "# Celda 1\n",
    "from xgboost import XGBRegressor\n",
    "from sklearn.metrics import mean_squared_error\n",
    "\n",
    "#Inicialmente lo tokenizamos pasando todo a minúsculas\n",
    "\n",
    "vect = CountVectorizer(lowercase=True)\n",
    "X_train_dtm_A = vect.fit_transform(X_train)\n",
    "X_test_dtm_A = vect.transform(X_test)\n",
    "clf = XGBRegressor(n_jobs=-1,random_state=1, n_estimators=10)\n",
    "clf.fit(X_train_dtm_A, y_train)\n",
    "y_pred = clf.predict(X_test_dtm_A)\n",
    "\n",
    "mse_rf1 = mean_squared_error(y_test, y_pred)\n",
    "\n",
    "print(\"El modelo de XGBoost muestra un MSE de {} en el set de Test\".format(mse_rf1))\n",
    "\n",
    "X_train_dtm_A.shape"
   ]
  },
  {
   "cell_type": "code",
   "execution_count": 11,
   "metadata": {},
   "outputs": [
    {
     "name": "stdout",
     "output_type": "stream",
     "text": [
      "El modelo de XGBoost muestra un MSE de 0.02955974935987425 en el set de Test\n"
     ]
    },
    {
     "data": {
      "text/plain": [
       "(362779, 184417)"
      ]
     },
     "execution_count": 11,
     "metadata": {},
     "output_type": "execute_result"
    }
   ],
   "source": [
    "#posteriormente lo tokenizamos con sensibilidad a mayusculas\n",
    "\n",
    "vect_min = CountVectorizer(lowercase=False)\n",
    "X_train_dtm_B = vect_min.fit_transform(X_train)\n",
    "X_test_dtm_B = vect_min.transform(X_test)\n",
    "clf = XGBRegressor(n_jobs=-1,random_state=1, n_estimators=10)\n",
    "clf.fit(X_train_dtm_B, y_train)\n",
    "y_pred = clf.predict(X_test_dtm_B)\n",
    "\n",
    "mse_rf2 = mean_squared_error(y_test, y_pred)\n",
    "\n",
    "print(\"El modelo de XGBoost muestra un MSE de {} en el set de Test\".format(mse_rf2))\n",
    "\n",
    "X_train_dtm_B.shape"
   ]
  },
  {
   "cell_type": "markdown",
   "metadata": {},
   "source": [
    "Se observa que convertir todo a minúsculas para estos datos tiene un mejor poder predictivo, lo cual podría deberse a que para este caso tener palabras con mayúsculas no agrega información, y al no eliminarlos en el modelo sensible a mayúsculas, se están agregando más de 43mil tokens con información repetida que empeoran el poder predictivo del modelo sensible vs el que convierte todo en minúsculas"
   ]
  },
  {
   "cell_type": "markdown",
   "metadata": {
    "id": "7RgbYg74nUdi"
   },
   "source": [
    "## Punto 2 - Tokenización con CountVectorizer y trigramas\n",
    "\n",
    "En la celda 2 creen y entrenen el mismo modelo de regresión del punto anterior (es decir si usaron un RandomForestRegresor usen nuevamente ese regresor), para que prediga la probabilidad de que un comentario sea tóxico, usando los set de entrenamiento y test definidos anteriormente. Usen la función CountVectorizer **considerando trigramas** para preprocesar los comentarios y presenten el desempeño del modelo con la métrica del MSE.\n",
    "\n",
    "Recuerden que el preprocesamiento que se haga sobre los datos de entrenamiento  (*.fit_transform()*) deben ser aplicado al set de test (*.transform()*)."
   ]
  },
  {
   "cell_type": "code",
   "execution_count": 12,
   "metadata": {},
   "outputs": [
    {
     "name": "stdout",
     "output_type": "stream",
     "text": [
      "El modelo de XGBoost muestra un MSE de 0.02860769691222019 en el set de Test\n"
     ]
    },
    {
     "data": {
      "text/plain": [
       "(362779, 14221994)"
      ]
     },
     "execution_count": 12,
     "metadata": {},
     "output_type": "execute_result"
    }
   ],
   "source": [
    "# Celda 2\n",
    "vect2 = CountVectorizer(lowercase=True, ngram_range=(1, 3))\n",
    "X_train_dtm_C = vect2.fit_transform(X_train)\n",
    "X_test_dtm_C = vect2.transform(X_test)\n",
    "clf = XGBRegressor(n_jobs=-1,random_state=1, n_estimators=10)\n",
    "clf.fit(X_train_dtm_C, y_train)\n",
    "y_pred = clf.predict(X_test_dtm_C)\n",
    "mse_rf3 = mean_squared_error(y_test, y_pred)\n",
    "print(\"El modelo de XGBoost muestra un MSE de {} en el set de Test\".format(mse_rf3))\n",
    "\n",
    "X_train_dtm_C.shape"
   ]
  },
  {
   "cell_type": "code",
   "execution_count": 13,
   "metadata": {
    "colab": {
     "base_uri": "https://localhost:8080/"
    },
    "executionInfo": {
     "elapsed": 461947,
     "status": "ok",
     "timestamp": 1682485085449,
     "user": {
      "displayName": "Alejandra Jerez Pardo",
      "userId": "12172939590678177758"
     },
     "user_tz": 300
    },
    "id": "iFNwywH_nUdj",
    "outputId": "9343c7e5-5dd9-4ab6-d390-4d95b5c6d2b4"
   },
   "outputs": [
    {
     "name": "stdout",
     "output_type": "stream",
     "text": [
      "El modelo de XGBoost muestra un MSE de 0.029538305060640098 en el set de Test\n"
     ]
    },
    {
     "data": {
      "text/plain": [
       "(362779, 15302855)"
      ]
     },
     "execution_count": 13,
     "metadata": {},
     "output_type": "execute_result"
    }
   ],
   "source": [
    "vect2_min = CountVectorizer(lowercase=False, ngram_range=(1, 3))\n",
    "X_train_dtm_D = vect2_min.fit_transform(X_train)\n",
    "X_test_dtm_D = vect2_min.transform(X_test)\n",
    "clf = XGBRegressor(n_jobs=-1,random_state=1, n_estimators=10)\n",
    "clf.fit(X_train_dtm_D, y_train)\n",
    "y_pred = clf.predict(X_test_dtm_D)\n",
    "mse_rf4 = mean_squared_error(y_test, y_pred)\n",
    "print(\"El modelo de XGBoost muestra un MSE de {} en el set de Test\".format(mse_rf4))\n",
    "\n",
    "X_train_dtm_D.shape"
   ]
  },
  {
   "cell_type": "markdown",
   "metadata": {},
   "source": [
    "Se observa una leve mejora en desempeño al usar unigramas, bigramas y trigramas, lo que pareciera indicar que para esta muestra, el orden en que se encuentran las palabras puede agregar información referente a si es o no tóxico el texto.\n",
    "\n",
    "También se observa que como en el anterior caso, agregar sensibilidad a mayúsculas empeora el poder predictivo del modelo"
   ]
  },
  {
   "cell_type": "code",
   "execution_count": 33,
   "metadata": {},
   "outputs": [
    {
     "name": "stdout",
     "output_type": "stream",
     "text": [
      "El modelo de XGBoost muestra un MSE de 0.03834023054188761 en el set de Test\n"
     ]
    },
    {
     "data": {
      "text/plain": [
       "(362779, 10546378)"
      ]
     },
     "execution_count": 33,
     "metadata": {},
     "output_type": "execute_result"
    }
   ],
   "source": [
    "# solo Trigrmas\n",
    "vect3 = CountVectorizer(lowercase=True, ngram_range=(3, 3))\n",
    "X_train_dtm_C3 = vect3.fit_transform(X_train)\n",
    "X_test_dtm_C3 = vect3.transform(X_test)\n",
    "clf = XGBRegressor(n_jobs=-1,random_state=1, n_estimators=10)\n",
    "clf.fit(X_train_dtm_C3, y_train)\n",
    "y_pred = clf.predict(X_test_dtm_C3)\n",
    "mse_rf31 = mean_squared_error(y_test, y_pred)\n",
    "print(\"El modelo de XGBoost muestra un MSE de {} en el set de Test\".format(mse_rf31))\n",
    "\n",
    "X_train_dtm_C3.shape"
   ]
  },
  {
   "cell_type": "markdown",
   "metadata": {},
   "source": [
    "Se decidió intentar utilizando solo Trigramas, pero se observó que en este caso el poder predictivo empeora."
   ]
  },
  {
   "cell_type": "markdown",
   "metadata": {
    "id": "rE0iwFIjnUdj"
   },
   "source": [
    "## Punto 3 - TfidfVectorizer\n",
    "\n",
    "Investigen sobre la función TfidfVectorizer. En la celda de texto 3, expliquen en qué consiste esta técnica de tokenización (describanla y expliquen su funcionamiento) y cúales son las ventajas o deventajas de su uso al compararlo con la función CountVectorizer."
   ]
  },
  {
   "cell_type": "markdown",
   "metadata": {
    "id": "s2kuuoKoNY8m"
   },
   "source": [
    "# Celda 3\n",
    "\n",
    "En textos (corpus) largos se encuentran palabras comunes como 'the', 'a', 'is' de forma muy frecuente. Se presume que estas palabras no contienen mucho contexto sobre la oración, sin embargo, son frecuentes y debido a esto puede opacar el impacto de palabras menos frecuentes que ofrecen más contexto, por ejemplo 'philosophy', 'cooking', 'accident'. \n",
    "\n",
    "La función TfidfVectorizer tiene como objetivo reducir el impacto de las palabras frecuentes con poco contexto para que aquellas que ofrecen más contexto sean representadas en los modelos. Para conseguir esto, la función **multiplica** la **frecuencia por término** (obtenida de CountVectorizer) por **la frecuencia por documento inversa**.\n",
    "\n",
    "La frecuencia por documento inversa se obtiene con la siguiente ecuación:\n",
    "\n",
    "$$idf\\left(t\\right) = log\\left( \\frac{1+n}{1+df\\left (t\\right )} \\right ) + 1$$\n",
    "\n",
    "En donde n es el número total de textos en el corpus y df(t) es el número de documentos que contienen la palabra t. \n",
    "\n",
    "Finalmente, la función TfidfVectorizer nos devuelve una matriz normalizada de la forma\n",
    "\n",
    "$$ TfidfVectorizer\\left ( t,d \\right ) = CountVectorizer\\left ( t,d \\right ) * idf\\left ( t \\right ) $$\n",
    "\n",
    "Nota: '*' Es un producto cruz.\n",
    "\n",
    "Si se compara la función de TfidfVectorizer con CountVectorizer una de las principales ventajas de la primera es que CountVectorizer cuenta la frecuencia de las palabras y esto puede generar un sesgo a favor de las palabras con mayor frecuencia e ignora las palabras \"raras\" que permitirían procesar los datos de mejor manera; mientras que TfidfVectorizer considera el peso total de la palabra en los documentos y penaliza las palabras más frecuentes.\n",
    "\n",
    "Como desventajas vs CountVectorizer, se tiene un mayor costo computacional, ya que implementa esta misma función con una serie de trasformaciones/ponderaciones. Adicionalmente, es importante tener en cuenta el contexto de los datos a procesar, puesto que la penalización de las palabras \"comunes\" no necesariamente es deseada. \n"
   ]
  },
  {
   "cell_type": "markdown",
   "metadata": {
    "id": "Slh3Nh33nUdj"
   },
   "source": [
    "## Punto 4 - Tokenización con TfidfVectorizer\n",
    "\n",
    "En la celda 4 creen y entrenen el mismo modelo de regresión del primer punto, para que prediga la probabilidad de que un comentario sea tóxico, usando los set de entrenamiento y test definidos anteriormente. Procesen los comentarios con la función **TfidfVectorizer** y presenten el desempeño del modelo con la métrica del MSE.\n",
    "\n",
    "Recuerden que el preprocesamiento que se haga sobre los datos de entrenamiento  (*.fit_transform()*) deben ser aplicado al set de test (*.transform()*)."
   ]
  },
  {
   "cell_type": "code",
   "execution_count": 18,
   "metadata": {
    "colab": {
     "base_uri": "https://localhost:8080/"
    },
    "executionInfo": {
     "elapsed": 37765,
     "status": "ok",
     "timestamp": 1682485499866,
     "user": {
      "displayName": "Alejandra Jerez Pardo",
      "userId": "12172939590678177758"
     },
     "user_tz": 300
    },
    "id": "OLUDfRdNnUdj",
    "outputId": "078d3e9c-1073-48bd-b21a-90ea323d4689"
   },
   "outputs": [
    {
     "name": "stdout",
     "output_type": "stream",
     "text": [
      "El modelo de XGBoost muestra un MSE de 0.028523700403294293 en el set de Test\n"
     ]
    },
    {
     "data": {
      "text/plain": [
       "(362779, 140862)"
      ]
     },
     "execution_count": 18,
     "metadata": {},
     "output_type": "execute_result"
    }
   ],
   "source": [
    "# Celda 4\n",
    "vec3 = TfidfVectorizer(lowercase=True, stop_words='english')\n",
    "Xp3 = vec3.fit_transform(X_train)\n",
    "\n",
    "# Implementación de modelo\n",
    "modelo_XGB3 = XGBRegressor(n_jobs=-1,random_state=1, n_estimators=10)\n",
    "modelo_XGB3.fit(Xp3, y_train)\n",
    "predict_RF3 = modelo_XGB3.predict(vec3.transform(X_test))\n",
    "\n",
    "mse_rf5= metrics.mean_squared_error(y_test, predict_RF3)\n",
    "print(\"El modelo de XGBoost muestra un MSE de {} en el set de Test\".format(mse_rf5))\n",
    "\n",
    "Xp3.shape"
   ]
  },
  {
   "cell_type": "code",
   "execution_count": 19,
   "metadata": {},
   "outputs": [
    {
     "name": "stdout",
     "output_type": "stream",
     "text": [
      "El modelo de XGBoost muestra un MSE de 0.029465975398559024 en el set de Test\n"
     ]
    },
    {
     "data": {
      "text/plain": [
       "(362779, 184103)"
      ]
     },
     "execution_count": 19,
     "metadata": {},
     "output_type": "execute_result"
    }
   ],
   "source": [
    "# Celda 4\n",
    "vec3_min = TfidfVectorizer(lowercase=False, stop_words='english')\n",
    "Xp3_min = vec3_min.fit_transform(X_train)\n",
    "\n",
    "# Implementación de modelo\n",
    "modelo_XGB3 = XGBRegressor(n_jobs=-1,random_state=1, n_estimators=10)\n",
    "modelo_XGB3.fit(Xp3_min, y_train)\n",
    "predict_RF3 = modelo_XGB3.predict(vec3_min.transform(X_test))\n",
    "\n",
    "mse_rf6= metrics.mean_squared_error(y_test, predict_RF3)\n",
    "print(\"El modelo de XGBoost muestra un MSE de {} en el set de Test\".format(mse_rf6))\n",
    "\n",
    "Xp3_min.shape"
   ]
  },
  {
   "cell_type": "markdown",
   "metadata": {
    "id": "BmqHMgjNnUdk"
   },
   "source": [
    "## Punto 5 - Comparación y análisis de resultados\n",
    "\n",
    "En la celda 5 comparen los resultados obtenidos de los diferentes modelos y comenten cómo el preprocesamiento de texto afecta el desempeño."
   ]
  },
  {
   "cell_type": "code",
   "execution_count": 26,
   "metadata": {
    "colab": {
     "base_uri": "https://localhost:8080/",
     "height": 563
    },
    "executionInfo": {
     "elapsed": 764,
     "status": "ok",
     "timestamp": 1682485524351,
     "user": {
      "displayName": "Alejandra Jerez Pardo",
      "userId": "12172939590678177758"
     },
     "user_tz": 300
    },
    "id": "PYtZQWuZnUdk",
    "outputId": "b277e270-a8c1-4bab-dcba-98961552c63e"
   },
   "outputs": [
    {
     "data": {
      "image/png": "[encoded data removed]",
      "text/plain": [
       "<Figure size 2000x600 with 1 Axes>"
      ]
     },
     "metadata": {},
     "output_type": "display_data"
    }
   ],
   "source": [
    "# Celda 5\n",
    "import matplotlib.pyplot as plt\n",
    "\n",
    "fig = plt.figure(figsize=(20, 6))\n",
    "ax = fig.add_axes([0,0,1,1])\n",
    "ax.set_title(\"Comparación de Tokenizadores\")\n",
    "ejeX = ['CountVectorizer','CountVectorizer_min','CountVectorizer Trigramas_min' ,\n",
    "        'CountVectorizer Trigramas' ,'TfidfVectorizer','TfidfVectorizer_min']\n",
    "ejeY = [round(mse_rf1,4),round(mse_rf1m,4),round(mse_rf3,4),round(mse_rf4,4),round(mse_rf5,4),round(mse_rf6,4)]\n",
    "ax.bar(ejeX,ejeY)\n",
    "def addlabels(x,y,plotP):\n",
    "    for i in range(len(x)):\n",
    "        plotP.text(i,y[i],y[i])\n",
    "addlabels(ejeX,ejeY,plt)\n",
    "plt.ylim(0.025)\n",
    "plt.show()"
   ]
  },
  {
   "cell_type": "markdown",
   "metadata": {},
   "source": [
    "Se observa que en general para estos datos los modelos convertidos a minúsculas presentan un mejor desempeño que su contraparte sensible a mayúsculas y minúsculas, pero es importante tener en cuenta que esto no es una regla, sino que depende del tipo de contexto que se esté evaluado, ya que por ejemplo las mayúsculas se emplean mucho para expresar \"emociones\" por lo que en un caso donde esto sea relevante podría ser mejor el modelo con sensibilidad a mayúsculas y minúsculas.\n",
    "\n",
    "El mejor modelo fue TfidfVectorizer según la métrica MSE.\n",
    "\n",
    "En este tipo de preprocesamientos es importante tener en el radar el trade-off de mejora predictiva vs costo computacional, ya que por ejemplo en esta base de datos, el hecho de usar unigramas, bigrmas y programas genero un incremento superior a 10 veces los tokes de solo usar unigrmas."
   ]
  }
 ],
 "metadata": {
  "colab": {
   "provenance": []
  },
  "kernelspec": {
   "display_name": "Python 3 (ipykernel)",
   "language": "python",
   "name": "python3"
  },
  "language_info": {
   "codemirror_mode": {
    "name": "ipython",
    "version": 3
   },
   "file_extension": ".py",
   "mimetype": "text/x-python",
   "name": "python",
   "nbconvert_exporter": "python",
   "pygments_lexer": "ipython3",
   "version": "3.9.12"
  },
  "name": "_merged"
 },
 "nbformat": 4,
 "nbformat_minor": 1
}
