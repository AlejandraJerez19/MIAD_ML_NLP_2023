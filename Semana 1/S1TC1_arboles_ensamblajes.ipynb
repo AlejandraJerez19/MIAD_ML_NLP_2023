{
 "cells": [
  {
   "cell_type": "markdown",
   "metadata": {},
   "source": [
    "![image info](https://raw.githubusercontent.com/albahnsen/MIAD_ML_and_NLP/main/images/banner_1.png)"
   ]
  },
  {
   "cell_type": "markdown",
   "metadata": {},
   "source": [
    "# Taller: Construcción e implementación de árboles de decisión y métodos de ensamblaje\n",
    "\n",
    "En este taller podrá poner en práctica los sus conocimientos sobre construcción e implementación de árboles de decisión y métodos de ensamblajes. El taller está constituido por 9 puntos, 5 relacionados con árboles de decisión (parte A) y 4 con métodos de ensamblaje (parte B)."
   ]
  },
  {
   "cell_type": "markdown",
   "metadata": {},
   "source": [
    "## Parte A - Árboles de decisión\n",
    "\n",
    "En esta parte del taller se usará el conjunto de datos de Capital Bikeshare de Kaggle, donde cada observación representa el alquiler de bicicletas durante una hora y día determinado. Para más detalles puede visitar los siguientes enlaces: [datos](https://archive.ics.uci.edu/ml/machine-learning-databases/00275/Bike-Sharing-Dataset.zip), [dicccionario de datos](https://archive.ics.uci.edu/ml/datasets/Bike+Sharing+Dataset#)."
   ]
  },
  {
   "cell_type": "markdown",
   "metadata": {},
   "source": [
    "### Datos prestamo de bicicletas"
   ]
  },
  {
   "cell_type": "code",
   "execution_count": 1,
   "metadata": {},
   "outputs": [],
   "source": [
    "import warnings\n",
    "warnings.filterwarnings('ignore')"
   ]
  },
  {
   "cell_type": "code",
   "execution_count": 2,
   "metadata": {},
   "outputs": [],
   "source": [
    "# Importación de librerías\n",
    "%matplotlib inline\n",
    "import pandas as pd\n",
    "import numpy as np\n",
    "from sklearn.model_selection import cross_val_score\n",
    "from sklearn.linear_model import LinearRegression\n",
    "from sklearn.tree import DecisionTreeRegressor, export_graphviz\n",
    "import matplotlib.pyplot as plt\n",
    "from sklearn.model_selection import train_test_split"
   ]
  },
  {
   "cell_type": "code",
   "execution_count": 3,
   "metadata": {},
   "outputs": [
    {
     "data": {
      "text/html": [
       "<div>\n",
       "<style scoped>\n",
       "    .dataframe tbody tr th:only-of-type {\n",
       "        vertical-align: middle;\n",
       "    }\n",
       "\n",
       "    .dataframe tbody tr th {\n",
       "        vertical-align: top;\n",
       "    }\n",
       "\n",
       "    .dataframe thead th {\n",
       "        text-align: right;\n",
       "    }\n",
       "</style>\n",
       "<table border=\"1\" class=\"dataframe\">\n",
       "  <thead>\n",
       "    <tr style=\"text-align: right;\">\n",
       "      <th></th>\n",
       "      <th>season</th>\n",
       "      <th>holiday</th>\n",
       "      <th>workingday</th>\n",
       "      <th>weather</th>\n",
       "      <th>temp</th>\n",
       "      <th>atemp</th>\n",
       "      <th>humidity</th>\n",
       "      <th>windspeed</th>\n",
       "      <th>casual</th>\n",
       "      <th>registered</th>\n",
       "      <th>total</th>\n",
       "      <th>hour</th>\n",
       "    </tr>\n",
       "    <tr>\n",
       "      <th>datetime</th>\n",
       "      <th></th>\n",
       "      <th></th>\n",
       "      <th></th>\n",
       "      <th></th>\n",
       "      <th></th>\n",
       "      <th></th>\n",
       "      <th></th>\n",
       "      <th></th>\n",
       "      <th></th>\n",
       "      <th></th>\n",
       "      <th></th>\n",
       "      <th></th>\n",
       "    </tr>\n",
       "  </thead>\n",
       "  <tbody>\n",
       "    <tr>\n",
       "      <th>2011-01-01 00:00:00</th>\n",
       "      <td>1</td>\n",
       "      <td>0</td>\n",
       "      <td>0</td>\n",
       "      <td>1</td>\n",
       "      <td>9.84</td>\n",
       "      <td>14.395</td>\n",
       "      <td>81</td>\n",
       "      <td>0.0</td>\n",
       "      <td>3</td>\n",
       "      <td>13</td>\n",
       "      <td>16</td>\n",
       "      <td>0</td>\n",
       "    </tr>\n",
       "    <tr>\n",
       "      <th>2011-01-01 01:00:00</th>\n",
       "      <td>1</td>\n",
       "      <td>0</td>\n",
       "      <td>0</td>\n",
       "      <td>1</td>\n",
       "      <td>9.02</td>\n",
       "      <td>13.635</td>\n",
       "      <td>80</td>\n",
       "      <td>0.0</td>\n",
       "      <td>8</td>\n",
       "      <td>32</td>\n",
       "      <td>40</td>\n",
       "      <td>1</td>\n",
       "    </tr>\n",
       "    <tr>\n",
       "      <th>2011-01-01 02:00:00</th>\n",
       "      <td>1</td>\n",
       "      <td>0</td>\n",
       "      <td>0</td>\n",
       "      <td>1</td>\n",
       "      <td>9.02</td>\n",
       "      <td>13.635</td>\n",
       "      <td>80</td>\n",
       "      <td>0.0</td>\n",
       "      <td>5</td>\n",
       "      <td>27</td>\n",
       "      <td>32</td>\n",
       "      <td>2</td>\n",
       "    </tr>\n",
       "    <tr>\n",
       "      <th>2011-01-01 03:00:00</th>\n",
       "      <td>1</td>\n",
       "      <td>0</td>\n",
       "      <td>0</td>\n",
       "      <td>1</td>\n",
       "      <td>9.84</td>\n",
       "      <td>14.395</td>\n",
       "      <td>75</td>\n",
       "      <td>0.0</td>\n",
       "      <td>3</td>\n",
       "      <td>10</td>\n",
       "      <td>13</td>\n",
       "      <td>3</td>\n",
       "    </tr>\n",
       "    <tr>\n",
       "      <th>2011-01-01 04:00:00</th>\n",
       "      <td>1</td>\n",
       "      <td>0</td>\n",
       "      <td>0</td>\n",
       "      <td>1</td>\n",
       "      <td>9.84</td>\n",
       "      <td>14.395</td>\n",
       "      <td>75</td>\n",
       "      <td>0.0</td>\n",
       "      <td>0</td>\n",
       "      <td>1</td>\n",
       "      <td>1</td>\n",
       "      <td>4</td>\n",
       "    </tr>\n",
       "  </tbody>\n",
       "</table>\n",
       "</div>"
      ],
      "text/plain": [
       "                     season  holiday  workingday  weather  temp   atemp  \\\n",
       "datetime                                                                  \n",
       "2011-01-01 00:00:00       1        0           0        1  9.84  14.395   \n",
       "2011-01-01 01:00:00       1        0           0        1  9.02  13.635   \n",
       "2011-01-01 02:00:00       1        0           0        1  9.02  13.635   \n",
       "2011-01-01 03:00:00       1        0           0        1  9.84  14.395   \n",
       "2011-01-01 04:00:00       1        0           0        1  9.84  14.395   \n",
       "\n",
       "                     humidity  windspeed  casual  registered  total  hour  \n",
       "datetime                                                                   \n",
       "2011-01-01 00:00:00        81        0.0       3          13     16     0  \n",
       "2011-01-01 01:00:00        80        0.0       8          32     40     1  \n",
       "2011-01-01 02:00:00        80        0.0       5          27     32     2  \n",
       "2011-01-01 03:00:00        75        0.0       3          10     13     3  \n",
       "2011-01-01 04:00:00        75        0.0       0           1      1     4  "
      ]
     },
     "execution_count": 3,
     "metadata": {},
     "output_type": "execute_result"
    }
   ],
   "source": [
    "# Lectura de la información de archivo .csv\n",
    "bikes = pd.read_csv('https://raw.githubusercontent.com/davidzarruk/MIAD_ML_NLP_2023/main/datasets/bikeshare.csv', index_col='datetime', parse_dates=True)\n",
    "\n",
    "# Renombrar variable \"count\" a \"total\"\n",
    "bikes.rename(columns={'count':'total'}, inplace=True)\n",
    "\n",
    "# Crear la hora como una variable \n",
    "bikes['hour'] = bikes.index.hour\n",
    "\n",
    "# Visualización de los datos\n",
    "bikes.head()"
   ]
  },
  {
   "cell_type": "markdown",
   "metadata": {},
   "source": [
    "### Punto 1 - Análisis descriptivo\n",
    "\n",
    "Ejecute las celdas 1.1 y 1.2. A partir de los resultados realice un análisis descriptivo sobre las variables \"season\" y \"hour\", escriba sus inferencias sobre los datos. Para complementar su análisis puede usar métricas como máximo, mínimo, percentiles entre otros."
   ]
  },
  {
   "cell_type": "code",
   "execution_count": 4,
   "metadata": {},
   "outputs": [
    {
     "data": {
      "text/plain": [
       "season\n",
       "1    116.343261\n",
       "2    215.251372\n",
       "3    234.417124\n",
       "4    198.988296\n",
       "Name: total, dtype: float64"
      ]
     },
     "execution_count": 4,
     "metadata": {},
     "output_type": "execute_result"
    }
   ],
   "source": [
    "# Celda 1.1\n",
    "bikes.groupby('season').total.mean()"
   ]
  },
  {
   "cell_type": "code",
   "execution_count": 5,
   "metadata": {
    "scrolled": true
   },
   "outputs": [
    {
     "data": {
      "text/plain": [
       "hour\n",
       "0      55.138462\n",
       "1      33.859031\n",
       "2      22.899554\n",
       "3      11.757506\n",
       "4       6.407240\n",
       "5      19.767699\n",
       "6      76.259341\n",
       "7     213.116484\n",
       "8     362.769231\n",
       "9     221.780220\n",
       "10    175.092308\n",
       "11    210.674725\n",
       "12    256.508772\n",
       "13    257.787281\n",
       "14    243.442982\n",
       "15    254.298246\n",
       "16    316.372807\n",
       "17    468.765351\n",
       "18    430.859649\n",
       "19    315.278509\n",
       "20    228.517544\n",
       "21    173.370614\n",
       "22    133.576754\n",
       "23     89.508772\n",
       "Name: total, dtype: float64"
      ]
     },
     "execution_count": 5,
     "metadata": {},
     "output_type": "execute_result"
    }
   ],
   "source": [
    "# Celda 1.2\n",
    "bikes.groupby('hour').total.mean()"
   ]
  },
  {
   "cell_type": "code",
   "execution_count": 6,
   "metadata": {},
   "outputs": [
    {
     "data": {
      "image/png": "[encoded data removed]",
      "text/plain": [
       "<Figure size 640x480 with 1 Axes>"
      ]
     },
     "metadata": {},
     "output_type": "display_data"
    }
   ],
   "source": [
    "# Gráfico de barras de pasajeros del Titanic\n",
    "import matplotlib.pyplot as plt\n",
    "\n",
    "# assuming 'bikes' is your dataframe and you have already performed the groupby operation\n",
    "bikes_season_totals = bikes.groupby('season')['total'].sum()\n",
    "\n",
    "# plot the result as a bar chart\n",
    "bikes_season_totals.plot(kind='pie',autopct='%1.1f%%')\n",
    "\n",
    "# set the chart title and axis labels\n",
    "plt.title('Total Bike Rentals by Season')\n",
    "plt.xlabel('Season')\n",
    "plt.ylabel('Total Rentals')\n",
    "\n",
    "# show the chart\n",
    "plt.show()"
   ]
  },
  {
   "cell_type": "code",
   "execution_count": 7,
   "metadata": {},
   "outputs": [
    {
     "data": {
      "image/png": "[encoded data removed]",
      "text/plain": [
       "<Figure size 640x480 with 1 Axes>"
      ]
     },
     "metadata": {},
     "output_type": "display_data"
    }
   ],
   "source": [
    "# assuming 'bikes' is your dataframe\n",
    "hourly_totals = bikes.groupby('hour')['total'].sum()\n",
    "\n",
    "# find the hour with the most rentals\n",
    "hour_with_most_rentals = hourly_totals.idxmax()\n",
    "\n",
    "# create a bar chart of the hourly totals\n",
    "hourly_totals.plot(kind='bar')\n",
    "\n",
    "# set the chart title and axis labels\n",
    "plt.title('Bike Rentals by Hour')\n",
    "plt.xlabel('Hour')\n",
    "plt.ylabel('Total Rentals')\n",
    "\n",
    "# add a vertical line to show the hour with the most rentals\n",
    "plt.axvline(x=hour_with_most_rentals, color='red')\n",
    "\n",
    "# show the chart\n",
    "plt.show()"
   ]
  },
  {
   "cell_type": "code",
   "execution_count": 8,
   "metadata": {},
   "outputs": [
    {
     "data": {
      "text/html": [
       "<style type=\"text/css\">\n",
       "#T_a88e2_row0_col0, #T_a88e2_row0_col7, #T_a88e2_row1_col0, #T_a88e2_row1_col1, #T_a88e2_row1_col2, #T_a88e2_row1_col3, #T_a88e2_row1_col4, #T_a88e2_row1_col5, #T_a88e2_row1_col6, #T_a88e2_row1_col7, #T_a88e2_row2_col0, #T_a88e2_row2_col1, #T_a88e2_row2_col2, #T_a88e2_row2_col3, #T_a88e2_row2_col4, #T_a88e2_row2_col6, #T_a88e2_row2_col7, #T_a88e2_row3_col0, #T_a88e2_row3_col2, #T_a88e2_row3_col7, #T_a88e2_row4_col0, #T_a88e2_row5_col0, #T_a88e2_row6_col0, #T_a88e2_row6_col3, #T_a88e2_row7_col0, #T_a88e2_row7_col3, #T_a88e2_row8_col0, #T_a88e2_row8_col3, #T_a88e2_row9_col0, #T_a88e2_row9_col3, #T_a88e2_row10_col0, #T_a88e2_row11_col0, #T_a88e2_row11_col3 {\n",
       "  background-color: #f7fbff;\n",
       "  color: #000000;\n",
       "}\n",
       "#T_a88e2_row0_col1, #T_a88e2_row0_col6 {\n",
       "  background-color: #f5f9fe;\n",
       "  color: #000000;\n",
       "}\n",
       "#T_a88e2_row0_col2, #T_a88e2_row2_col5, #T_a88e2_row3_col1, #T_a88e2_row3_col5, #T_a88e2_row3_col6 {\n",
       "  background-color: #f6faff;\n",
       "  color: #000000;\n",
       "}\n",
       "#T_a88e2_row0_col3, #T_a88e2_row3_col3, #T_a88e2_row6_col4, #T_a88e2_row10_col1, #T_a88e2_row10_col2, #T_a88e2_row10_col3, #T_a88e2_row10_col5, #T_a88e2_row10_col6, #T_a88e2_row10_col7 {\n",
       "  background-color: #08306b;\n",
       "  color: #f1f1f1;\n",
       "}\n",
       "#T_a88e2_row0_col4, #T_a88e2_row4_col2, #T_a88e2_row4_col7 {\n",
       "  background-color: #eff6fc;\n",
       "  color: #000000;\n",
       "}\n",
       "#T_a88e2_row0_col5, #T_a88e2_row3_col4, #T_a88e2_row11_col7 {\n",
       "  background-color: #f3f8fe;\n",
       "  color: #000000;\n",
       "}\n",
       "#T_a88e2_row4_col1, #T_a88e2_row5_col6 {\n",
       "  background-color: #e2edf8;\n",
       "  color: #000000;\n",
       "}\n",
       "#T_a88e2_row4_col3 {\n",
       "  background-color: #135fa7;\n",
       "  color: #f1f1f1;\n",
       "}\n",
       "#T_a88e2_row4_col4 {\n",
       "  background-color: #b8d5ea;\n",
       "  color: #000000;\n",
       "}\n",
       "#T_a88e2_row4_col5 {\n",
       "  background-color: #dbe9f6;\n",
       "  color: #000000;\n",
       "}\n",
       "#T_a88e2_row4_col6 {\n",
       "  background-color: #e5eff9;\n",
       "  color: #000000;\n",
       "}\n",
       "#T_a88e2_row5_col1 {\n",
       "  background-color: #dfebf7;\n",
       "  color: #000000;\n",
       "}\n",
       "#T_a88e2_row5_col2, #T_a88e2_row5_col7, #T_a88e2_row7_col2 {\n",
       "  background-color: #eef5fc;\n",
       "  color: #000000;\n",
       "}\n",
       "#T_a88e2_row5_col3 {\n",
       "  background-color: #1f6eb3;\n",
       "  color: #f1f1f1;\n",
       "}\n",
       "#T_a88e2_row5_col4 {\n",
       "  background-color: #a5cde3;\n",
       "  color: #000000;\n",
       "}\n",
       "#T_a88e2_row5_col5 {\n",
       "  background-color: #d6e6f4;\n",
       "  color: #000000;\n",
       "}\n",
       "#T_a88e2_row6_col1 {\n",
       "  background-color: #afd1e7;\n",
       "  color: #000000;\n",
       "}\n",
       "#T_a88e2_row6_col2 {\n",
       "  background-color: #e3eef8;\n",
       "  color: #000000;\n",
       "}\n",
       "#T_a88e2_row6_col5 {\n",
       "  background-color: #89bedc;\n",
       "  color: #000000;\n",
       "}\n",
       "#T_a88e2_row6_col6 {\n",
       "  background-color: #bfd8ed;\n",
       "  color: #000000;\n",
       "}\n",
       "#T_a88e2_row6_col7 {\n",
       "  background-color: #e3eef9;\n",
       "  color: #000000;\n",
       "}\n",
       "#T_a88e2_row7_col1 {\n",
       "  background-color: #eaf2fb;\n",
       "  color: #000000;\n",
       "}\n",
       "#T_a88e2_row7_col4 {\n",
       "  background-color: #d9e8f5;\n",
       "  color: #000000;\n",
       "}\n",
       "#T_a88e2_row7_col5 {\n",
       "  background-color: #e6f0f9;\n",
       "  color: #000000;\n",
       "}\n",
       "#T_a88e2_row7_col6, #T_a88e2_row11_col1 {\n",
       "  background-color: #ebf3fb;\n",
       "  color: #000000;\n",
       "}\n",
       "#T_a88e2_row7_col7 {\n",
       "  background-color: #ecf4fb;\n",
       "  color: #000000;\n",
       "}\n",
       "#T_a88e2_row8_col1 {\n",
       "  background-color: #d2e3f3;\n",
       "  color: #000000;\n",
       "}\n",
       "#T_a88e2_row8_col2 {\n",
       "  background-color: #bed8ec;\n",
       "  color: #000000;\n",
       "}\n",
       "#T_a88e2_row8_col4, #T_a88e2_row11_col5 {\n",
       "  background-color: #e7f0fa;\n",
       "  color: #000000;\n",
       "}\n",
       "#T_a88e2_row8_col5 {\n",
       "  background-color: #dfecf7;\n",
       "  color: #000000;\n",
       "}\n",
       "#T_a88e2_row8_col6 {\n",
       "  background-color: #d5e5f4;\n",
       "  color: #000000;\n",
       "}\n",
       "#T_a88e2_row8_col7 {\n",
       "  background-color: #9dcae1;\n",
       "  color: #000000;\n",
       "}\n",
       "#T_a88e2_row9_col1 {\n",
       "  background-color: #1561a9;\n",
       "  color: #f1f1f1;\n",
       "}\n",
       "#T_a88e2_row9_col2 {\n",
       "  background-color: #105ba4;\n",
       "  color: #f1f1f1;\n",
       "}\n",
       "#T_a88e2_row9_col4 {\n",
       "  background-color: #1d6cb1;\n",
       "  color: #f1f1f1;\n",
       "}\n",
       "#T_a88e2_row9_col5 {\n",
       "  background-color: #1460a8;\n",
       "  color: #f1f1f1;\n",
       "}\n",
       "#T_a88e2_row9_col6 {\n",
       "  background-color: #1a68ae;\n",
       "  color: #f1f1f1;\n",
       "}\n",
       "#T_a88e2_row9_col7 {\n",
       "  background-color: #08488e;\n",
       "  color: #f1f1f1;\n",
       "}\n",
       "#T_a88e2_row10_col4 {\n",
       "  background-color: #084c95;\n",
       "  color: #f1f1f1;\n",
       "}\n",
       "#T_a88e2_row11_col2 {\n",
       "  background-color: #f0f6fd;\n",
       "  color: #000000;\n",
       "}\n",
       "#T_a88e2_row11_col4 {\n",
       "  background-color: #deebf7;\n",
       "  color: #000000;\n",
       "}\n",
       "#T_a88e2_row11_col6 {\n",
       "  background-color: #eaf3fb;\n",
       "  color: #000000;\n",
       "}\n",
       "</style>\n",
       "<table id=\"T_a88e2\">\n",
       "  <thead>\n",
       "    <tr>\n",
       "      <th class=\"blank level0\" >&nbsp;</th>\n",
       "      <th id=\"T_a88e2_level0_col0\" class=\"col_heading level0 col0\" >count</th>\n",
       "      <th id=\"T_a88e2_level0_col1\" class=\"col_heading level0 col1\" >mean</th>\n",
       "      <th id=\"T_a88e2_level0_col2\" class=\"col_heading level0 col2\" >std</th>\n",
       "      <th id=\"T_a88e2_level0_col3\" class=\"col_heading level0 col3\" >min</th>\n",
       "      <th id=\"T_a88e2_level0_col4\" class=\"col_heading level0 col4\" >25%</th>\n",
       "      <th id=\"T_a88e2_level0_col5\" class=\"col_heading level0 col5\" >50%</th>\n",
       "      <th id=\"T_a88e2_level0_col6\" class=\"col_heading level0 col6\" >75%</th>\n",
       "      <th id=\"T_a88e2_level0_col7\" class=\"col_heading level0 col7\" >max</th>\n",
       "    </tr>\n",
       "  </thead>\n",
       "  <tbody>\n",
       "    <tr>\n",
       "      <th id=\"T_a88e2_level0_row0\" class=\"row_heading level0 row0\" >season</th>\n",
       "      <td id=\"T_a88e2_row0_col0\" class=\"data row0 col0\" >10886.000000</td>\n",
       "      <td id=\"T_a88e2_row0_col1\" class=\"data row0 col1\" >2.506614</td>\n",
       "      <td id=\"T_a88e2_row0_col2\" class=\"data row0 col2\" >1.116174</td>\n",
       "      <td id=\"T_a88e2_row0_col3\" class=\"data row0 col3\" >1.000000</td>\n",
       "      <td id=\"T_a88e2_row0_col4\" class=\"data row0 col4\" >2.000000</td>\n",
       "      <td id=\"T_a88e2_row0_col5\" class=\"data row0 col5\" >3.000000</td>\n",
       "      <td id=\"T_a88e2_row0_col6\" class=\"data row0 col6\" >4.000000</td>\n",
       "      <td id=\"T_a88e2_row0_col7\" class=\"data row0 col7\" >4.000000</td>\n",
       "    </tr>\n",
       "    <tr>\n",
       "      <th id=\"T_a88e2_level0_row1\" class=\"row_heading level0 row1\" >holiday</th>\n",
       "      <td id=\"T_a88e2_row1_col0\" class=\"data row1 col0\" >10886.000000</td>\n",
       "      <td id=\"T_a88e2_row1_col1\" class=\"data row1 col1\" >0.028569</td>\n",
       "      <td id=\"T_a88e2_row1_col2\" class=\"data row1 col2\" >0.166599</td>\n",
       "      <td id=\"T_a88e2_row1_col3\" class=\"data row1 col3\" >0.000000</td>\n",
       "      <td id=\"T_a88e2_row1_col4\" class=\"data row1 col4\" >0.000000</td>\n",
       "      <td id=\"T_a88e2_row1_col5\" class=\"data row1 col5\" >0.000000</td>\n",
       "      <td id=\"T_a88e2_row1_col6\" class=\"data row1 col6\" >0.000000</td>\n",
       "      <td id=\"T_a88e2_row1_col7\" class=\"data row1 col7\" >1.000000</td>\n",
       "    </tr>\n",
       "    <tr>\n",
       "      <th id=\"T_a88e2_level0_row2\" class=\"row_heading level0 row2\" >workingday</th>\n",
       "      <td id=\"T_a88e2_row2_col0\" class=\"data row2 col0\" >10886.000000</td>\n",
       "      <td id=\"T_a88e2_row2_col1\" class=\"data row2 col1\" >0.680875</td>\n",
       "      <td id=\"T_a88e2_row2_col2\" class=\"data row2 col2\" >0.466159</td>\n",
       "      <td id=\"T_a88e2_row2_col3\" class=\"data row2 col3\" >0.000000</td>\n",
       "      <td id=\"T_a88e2_row2_col4\" class=\"data row2 col4\" >0.000000</td>\n",
       "      <td id=\"T_a88e2_row2_col5\" class=\"data row2 col5\" >1.000000</td>\n",
       "      <td id=\"T_a88e2_row2_col6\" class=\"data row2 col6\" >1.000000</td>\n",
       "      <td id=\"T_a88e2_row2_col7\" class=\"data row2 col7\" >1.000000</td>\n",
       "    </tr>\n",
       "    <tr>\n",
       "      <th id=\"T_a88e2_level0_row3\" class=\"row_heading level0 row3\" >weather</th>\n",
       "      <td id=\"T_a88e2_row3_col0\" class=\"data row3 col0\" >10886.000000</td>\n",
       "      <td id=\"T_a88e2_row3_col1\" class=\"data row3 col1\" >1.418427</td>\n",
       "      <td id=\"T_a88e2_row3_col2\" class=\"data row3 col2\" >0.633839</td>\n",
       "      <td id=\"T_a88e2_row3_col3\" class=\"data row3 col3\" >1.000000</td>\n",
       "      <td id=\"T_a88e2_row3_col4\" class=\"data row3 col4\" >1.000000</td>\n",
       "      <td id=\"T_a88e2_row3_col5\" class=\"data row3 col5\" >1.000000</td>\n",
       "      <td id=\"T_a88e2_row3_col6\" class=\"data row3 col6\" >2.000000</td>\n",
       "      <td id=\"T_a88e2_row3_col7\" class=\"data row3 col7\" >4.000000</td>\n",
       "    </tr>\n",
       "    <tr>\n",
       "      <th id=\"T_a88e2_level0_row4\" class=\"row_heading level0 row4\" >temp</th>\n",
       "      <td id=\"T_a88e2_row4_col0\" class=\"data row4 col0\" >10886.000000</td>\n",
       "      <td id=\"T_a88e2_row4_col1\" class=\"data row4 col1\" >20.230860</td>\n",
       "      <td id=\"T_a88e2_row4_col2\" class=\"data row4 col2\" >7.791590</td>\n",
       "      <td id=\"T_a88e2_row4_col3\" class=\"data row4 col3\" >0.820000</td>\n",
       "      <td id=\"T_a88e2_row4_col4\" class=\"data row4 col4\" >13.940000</td>\n",
       "      <td id=\"T_a88e2_row4_col5\" class=\"data row4 col5\" >20.500000</td>\n",
       "      <td id=\"T_a88e2_row4_col6\" class=\"data row4 col6\" >26.240000</td>\n",
       "      <td id=\"T_a88e2_row4_col7\" class=\"data row4 col7\" >41.000000</td>\n",
       "    </tr>\n",
       "    <tr>\n",
       "      <th id=\"T_a88e2_level0_row5\" class=\"row_heading level0 row5\" >atemp</th>\n",
       "      <td id=\"T_a88e2_row5_col0\" class=\"data row5 col0\" >10886.000000</td>\n",
       "      <td id=\"T_a88e2_row5_col1\" class=\"data row5 col1\" >23.655084</td>\n",
       "      <td id=\"T_a88e2_row5_col2\" class=\"data row5 col2\" >8.474601</td>\n",
       "      <td id=\"T_a88e2_row5_col3\" class=\"data row5 col3\" >0.760000</td>\n",
       "      <td id=\"T_a88e2_row5_col4\" class=\"data row5 col4\" >16.665000</td>\n",
       "      <td id=\"T_a88e2_row5_col5\" class=\"data row5 col5\" >24.240000</td>\n",
       "      <td id=\"T_a88e2_row5_col6\" class=\"data row5 col6\" >31.060000</td>\n",
       "      <td id=\"T_a88e2_row5_col7\" class=\"data row5 col7\" >45.455000</td>\n",
       "    </tr>\n",
       "    <tr>\n",
       "      <th id=\"T_a88e2_level0_row6\" class=\"row_heading level0 row6\" >humidity</th>\n",
       "      <td id=\"T_a88e2_row6_col0\" class=\"data row6 col0\" >10886.000000</td>\n",
       "      <td id=\"T_a88e2_row6_col1\" class=\"data row6 col1\" >61.886460</td>\n",
       "      <td id=\"T_a88e2_row6_col2\" class=\"data row6 col2\" >19.245033</td>\n",
       "      <td id=\"T_a88e2_row6_col3\" class=\"data row6 col3\" >0.000000</td>\n",
       "      <td id=\"T_a88e2_row6_col4\" class=\"data row6 col4\" >47.000000</td>\n",
       "      <td id=\"T_a88e2_row6_col5\" class=\"data row6 col5\" >62.000000</td>\n",
       "      <td id=\"T_a88e2_row6_col6\" class=\"data row6 col6\" >77.000000</td>\n",
       "      <td id=\"T_a88e2_row6_col7\" class=\"data row6 col7\" >100.000000</td>\n",
       "    </tr>\n",
       "    <tr>\n",
       "      <th id=\"T_a88e2_level0_row7\" class=\"row_heading level0 row7\" >windspeed</th>\n",
       "      <td id=\"T_a88e2_row7_col0\" class=\"data row7 col0\" >10886.000000</td>\n",
       "      <td id=\"T_a88e2_row7_col1\" class=\"data row7 col1\" >12.799395</td>\n",
       "      <td id=\"T_a88e2_row7_col2\" class=\"data row7 col2\" >8.164537</td>\n",
       "      <td id=\"T_a88e2_row7_col3\" class=\"data row7 col3\" >0.000000</td>\n",
       "      <td id=\"T_a88e2_row7_col4\" class=\"data row7 col4\" >7.001500</td>\n",
       "      <td id=\"T_a88e2_row7_col5\" class=\"data row7 col5\" >12.998000</td>\n",
       "      <td id=\"T_a88e2_row7_col6\" class=\"data row7 col6\" >16.997900</td>\n",
       "      <td id=\"T_a88e2_row7_col7\" class=\"data row7 col7\" >56.996900</td>\n",
       "    </tr>\n",
       "    <tr>\n",
       "      <th id=\"T_a88e2_level0_row8\" class=\"row_heading level0 row8\" >casual</th>\n",
       "      <td id=\"T_a88e2_row8_col0\" class=\"data row8 col0\" >10886.000000</td>\n",
       "      <td id=\"T_a88e2_row8_col1\" class=\"data row8 col1\" >36.021955</td>\n",
       "      <td id=\"T_a88e2_row8_col2\" class=\"data row8 col2\" >49.960477</td>\n",
       "      <td id=\"T_a88e2_row8_col3\" class=\"data row8 col3\" >0.000000</td>\n",
       "      <td id=\"T_a88e2_row8_col4\" class=\"data row8 col4\" >4.000000</td>\n",
       "      <td id=\"T_a88e2_row8_col5\" class=\"data row8 col5\" >17.000000</td>\n",
       "      <td id=\"T_a88e2_row8_col6\" class=\"data row8 col6\" >49.000000</td>\n",
       "      <td id=\"T_a88e2_row8_col7\" class=\"data row8 col7\" >367.000000</td>\n",
       "    </tr>\n",
       "    <tr>\n",
       "      <th id=\"T_a88e2_level0_row9\" class=\"row_heading level0 row9\" >registered</th>\n",
       "      <td id=\"T_a88e2_row9_col0\" class=\"data row9 col0\" >10886.000000</td>\n",
       "      <td id=\"T_a88e2_row9_col1\" class=\"data row9 col1\" >155.552177</td>\n",
       "      <td id=\"T_a88e2_row9_col2\" class=\"data row9 col2\" >151.039033</td>\n",
       "      <td id=\"T_a88e2_row9_col3\" class=\"data row9 col3\" >0.000000</td>\n",
       "      <td id=\"T_a88e2_row9_col4\" class=\"data row9 col4\" >36.000000</td>\n",
       "      <td id=\"T_a88e2_row9_col5\" class=\"data row9 col5\" >118.000000</td>\n",
       "      <td id=\"T_a88e2_row9_col6\" class=\"data row9 col6\" >222.000000</td>\n",
       "      <td id=\"T_a88e2_row9_col7\" class=\"data row9 col7\" >886.000000</td>\n",
       "    </tr>\n",
       "    <tr>\n",
       "      <th id=\"T_a88e2_level0_row10\" class=\"row_heading level0 row10\" >total</th>\n",
       "      <td id=\"T_a88e2_row10_col0\" class=\"data row10 col0\" >10886.000000</td>\n",
       "      <td id=\"T_a88e2_row10_col1\" class=\"data row10 col1\" >191.574132</td>\n",
       "      <td id=\"T_a88e2_row10_col2\" class=\"data row10 col2\" >181.144454</td>\n",
       "      <td id=\"T_a88e2_row10_col3\" class=\"data row10 col3\" >1.000000</td>\n",
       "      <td id=\"T_a88e2_row10_col4\" class=\"data row10 col4\" >42.000000</td>\n",
       "      <td id=\"T_a88e2_row10_col5\" class=\"data row10 col5\" >145.000000</td>\n",
       "      <td id=\"T_a88e2_row10_col6\" class=\"data row10 col6\" >284.000000</td>\n",
       "      <td id=\"T_a88e2_row10_col7\" class=\"data row10 col7\" >977.000000</td>\n",
       "    </tr>\n",
       "    <tr>\n",
       "      <th id=\"T_a88e2_level0_row11\" class=\"row_heading level0 row11\" >hour</th>\n",
       "      <td id=\"T_a88e2_row11_col0\" class=\"data row11 col0\" >10886.000000</td>\n",
       "      <td id=\"T_a88e2_row11_col1\" class=\"data row11 col1\" >11.541613</td>\n",
       "      <td id=\"T_a88e2_row11_col2\" class=\"data row11 col2\" >6.915838</td>\n",
       "      <td id=\"T_a88e2_row11_col3\" class=\"data row11 col3\" >0.000000</td>\n",
       "      <td id=\"T_a88e2_row11_col4\" class=\"data row11 col4\" >6.000000</td>\n",
       "      <td id=\"T_a88e2_row11_col5\" class=\"data row11 col5\" >12.000000</td>\n",
       "      <td id=\"T_a88e2_row11_col6\" class=\"data row11 col6\" >18.000000</td>\n",
       "      <td id=\"T_a88e2_row11_col7\" class=\"data row11 col7\" >23.000000</td>\n",
       "    </tr>\n",
       "  </tbody>\n",
       "</table>\n"
      ],
      "text/plain": [
       "<pandas.io.formats.style.Styler at 0x21f36d84760>"
      ]
     },
     "execution_count": 8,
     "metadata": {},
     "output_type": "execute_result"
    }
   ],
   "source": [
    "#Estadísticas descriptivas del dataset\n",
    "pd.set_option('display.precision', 0)\n",
    "bikes.describe().T.style.background_gradient(cmap=\"Blues\")"
   ]
  },
  {
   "cell_type": "markdown",
   "metadata": {},
   "source": [
    "### Análisis de resultados - Punto 1\n",
    "\n",
    "Para la variable **season** tenemos 4 categorías que hacen referencia a las estaciones del año (invierno, primavera, verano y otoño). De la tabla de frecuencias, podemos ver como la estación de verano cuenta con el mayor promedio de alquiler de biciletas. Lo anterior, también se puede ver en la gráfica de torta donde verano presenta el 30.7% del alquier total de biciletas. Ahora bien, la estación que presenta la menor cantidad de biciletas alquiladas es invierno.\n",
    "\n",
    "Para la variable **horas** tenemos 24 categorías correspondientes a las horas del día (9 a 23). De la gráfica de barras, podemos concluir que la hora en la que se demandan menos bicicletas es 4:00 AM (6,4 bicicletas en promedio se rentan a esta hora). Por otro lado, la hora que más demanda de bicicletas tiene es 5:00 PM (468 bicicletas en promedio)."
   ]
  },
  {
   "cell_type": "markdown",
   "metadata": {},
   "source": [
    "### Punto 2 - Análisis de gráficos\n",
    "\n",
    "Primero ejecute la celda 2.1 y asegúrese de comprender el código y el resultado. Luego, en cada una de celdas 2.2 y 2.3 escriba un código que genere una gráfica del número de bicicletas rentadas promedio para cada valor de la variable \"hour\" (hora) cuando la variable \"season\" es igual a 1 (invierno) e igual a 3 (verano), respectivamente. Analice y escriba sus hallazgos."
   ]
  },
  {
   "cell_type": "code",
   "execution_count": 9,
   "metadata": {},
   "outputs": [
    {
     "data": {
      "text/plain": [
       "<AxesSubplot: xlabel='hour'>"
      ]
     },
     "execution_count": 9,
     "metadata": {},
     "output_type": "execute_result"
    },
    {
     "data": {
      "image/png": "[encoded data removed]",
      "text/plain": [
       "<Figure size 640x480 with 1 Axes>"
      ]
     },
     "metadata": {},
     "output_type": "display_data"
    }
   ],
   "source": [
    "# Celda 2.1 - rentas promedio para cada valor de la variable \"hour\"\n",
    "bikes.groupby('hour').total.mean().plot()"
   ]
  },
  {
   "cell_type": "code",
   "execution_count": 10,
   "metadata": {},
   "outputs": [
    {
     "data": {
      "image/png": "[encoded data removed]",
      "text/plain": [
       "<Figure size 640x480 with 1 Axes>"
      ]
     },
     "metadata": {},
     "output_type": "display_data"
    }
   ],
   "source": [
    "# Celda 2.2 - \"season\"=1 escriba su código y hallazgos \n",
    "# filtrar datos para invierno (season=1)\n",
    "data_invierno = bikes[bikes[\"season\"] == 1]\n",
    "\n",
    "# calcular promedio de bicicletas rentadas por hora\n",
    "promedio_invierno = data_invierno.groupby(\"hour\")[\"total\"].mean()\n",
    "\n",
    "# crear gráfica\n",
    "plt.plot(promedio_invierno.index, promedio_invierno, label=\"Invierno\")\n",
    "plt.xlabel(\"Hora\")\n",
    "plt.ylabel(\"Bicicletas rentadas (promedio)\")\n",
    "plt.title(\"Promedio de bicicletas rentadas por hora en invierno\")\n",
    "plt.legend()\n",
    "plt.show()"
   ]
  },
  {
   "cell_type": "code",
   "execution_count": 11,
   "metadata": {},
   "outputs": [
    {
     "data": {
      "image/png": "[encoded data removed]",
      "text/plain": [
       "<Figure size 640x480 with 1 Axes>"
      ]
     },
     "metadata": {},
     "output_type": "display_data"
    }
   ],
   "source": [
    "# Celda 2.3 - \"season\"=3 escriba su código y hallazgos \n",
    "# filtrar datos para invierno (season=1)\n",
    "data_verano = bikes[bikes[\"season\"] == 3]\n",
    "\n",
    "# calcular promedio de bicicletas rentadas por hora\n",
    "promedio_verano = data_verano.groupby(\"hour\")[\"total\"].mean()\n",
    "\n",
    "# crear gráfica\n",
    "plt.plot(promedio_verano.index, promedio_verano, label=\"Verano\")\n",
    "plt.xlabel(\"Hora\")\n",
    "plt.ylabel(\"Bicicletas rentadas (promedio)\")\n",
    "plt.title(\"Promedio de bicicletas rentadas por hora en verano\")\n",
    "plt.legend()\n",
    "plt.show()"
   ]
  },
  {
   "cell_type": "markdown",
   "metadata": {},
   "source": [
    "### Análisis de resultados - Punto 2\n",
    "\n",
    "Al generar las gráficas correspondientes al número de bicicletas rentadas promedio para cada valor de la variable **hour** (hora) cuando la variable **season** es igual a 1 (invierno) e igual a 3 (verano), podemos concluir que entre las 4:00 pm y las 6:00 pm hay mayor alquiler de biciletas independientemente de la estación. Sin embargo, la cantidad de biciletas alquiladas si varia sustancialmente entre la estación de verano e invierno."
   ]
  },
  {
   "cell_type": "markdown",
   "metadata": {},
   "source": [
    "### Punto 3 - Regresión lineal\n",
    "En la celda 3 ajuste un modelo de regresión lineal a todo el conjunto de datos, utilizando \"total\" como variable de respuesta y \"season\" y \"hour\" como las únicas variables predictoras, teniendo en cuenta que la variable \"season\" es categórica. Luego, imprima los coeficientes e interprételos. ¿Cuáles son las limitaciones de la regresión lineal en este caso?"
   ]
  },
  {
   "cell_type": "code",
   "execution_count": 14,
   "metadata": {},
   "outputs": [
    {
     "name": "stdout",
     "output_type": "stream",
     "text": [
      "Coeficientes:  [ 10.54520609 100.31723192 119.46754995  84.08311787]\n",
      "Intercepto:  -6.430262462305961\n",
      "R-cuadrado:  0.22339339904452493\n"
     ]
    }
   ],
   "source": [
    "# Celda 3\n",
    "bikes = bikes.reset_index(drop=True)\n",
    "bikes = bikes.loc[:, ['season', 'hour','total']]\n",
    "\n",
    "#Tener en cuenta que season es una variable categorica\n",
    "bikes['season'] = bikes['season'].astype('category')\n",
    "\n",
    "X = bikes.drop(columns = \"total\")\n",
    "X = pd.get_dummies(data=X, drop_first=True)\n",
    "X.head()\n",
    "y = bikes['total']\n",
    "# Ajustar modelo de regresión lineal\n",
    "modelo_P3 = LinearRegression().fit(X,y)\n",
    "\n",
    "# imprimir resultados\n",
    "print(\"Coeficientes: \", modelo_P3.coef_)\n",
    "print(\"Intercepto: \", modelo_P3.intercept_)\n",
    "print(\"R-cuadrado: \", modelo_P3.score(X,y))"
   ]
  },
  {
   "cell_type": "code",
   "execution_count": 15,
   "metadata": {},
   "outputs": [
    {
     "data": {
      "text/html": [
       "<style type=\"text/css\">\n",
       "</style>\n",
       "<table id=\"T_8a85c\">\n",
       "  <thead>\n",
       "    <tr>\n",
       "      <th class=\"blank level0\" >&nbsp;</th>\n",
       "      <th id=\"T_8a85c_level0_col0\" class=\"col_heading level0 col0\" >Coefficient</th>\n",
       "    </tr>\n",
       "  </thead>\n",
       "  <tbody>\n",
       "    <tr>\n",
       "      <th id=\"T_8a85c_level0_row0\" class=\"row_heading level0 row0\" >hour</th>\n",
       "      <td id=\"T_8a85c_row0_col0\" class=\"data row0 col0\" >10.55</td>\n",
       "    </tr>\n",
       "    <tr>\n",
       "      <th id=\"T_8a85c_level0_row1\" class=\"row_heading level0 row1\" >season_2</th>\n",
       "      <td id=\"T_8a85c_row1_col0\" class=\"data row1 col0\" >100.32</td>\n",
       "    </tr>\n",
       "    <tr>\n",
       "      <th id=\"T_8a85c_level0_row2\" class=\"row_heading level0 row2\" >season_3</th>\n",
       "      <td id=\"T_8a85c_row2_col0\" class=\"data row2 col0\" >119.47</td>\n",
       "    </tr>\n",
       "    <tr>\n",
       "      <th id=\"T_8a85c_level0_row3\" class=\"row_heading level0 row3\" >season_4</th>\n",
       "      <td id=\"T_8a85c_row3_col0\" class=\"data row3 col0\" >84.08</td>\n",
       "    </tr>\n",
       "  </tbody>\n",
       "</table>\n"
      ],
      "text/plain": [
       "<pandas.io.formats.style.Styler at 0x21f389c14c0>"
      ]
     },
     "execution_count": 15,
     "metadata": {},
     "output_type": "execute_result"
    }
   ],
   "source": [
    "coeff_parameter = pd.DataFrame(modelo_P3.coef_,X.columns,columns=['Coefficient'])\n",
    "coeff_parameter = coeff_parameter.style.format('{:.2f}')\n",
    "coeff_parameter"
   ]
  },
  {
   "cell_type": "code",
   "execution_count": 16,
   "metadata": {},
   "outputs": [
    {
     "data": {
      "text/plain": [
       "25480.694694371625"
      ]
     },
     "execution_count": 16,
     "metadata": {},
     "output_type": "execute_result"
    }
   ],
   "source": [
    "from sklearn.metrics import mean_squared_error\n",
    "# Make predictions on the training data\n",
    "y_pred = modelo_P3.predict(X)\n",
    "\n",
    "# Calculate the mean squared error\n",
    "MSE_LR = mean_squared_error(bikes['total'], y_pred)\n",
    "MSE_LR"
   ]
  },
  {
   "cell_type": "markdown",
   "metadata": {},
   "source": [
    "#### Análisis de resultados - Punto 3\n",
    "\n",
    "Para interpretar los coeficientes del modelo re regresión lineal es necesario considerar la dirección de la relación entre una variable predictiva y la variable de respuesta. Un signo positivo indica que a medida que aumenta la variable predictora, también aumenta la variable objetivo. En cambio, un signo negativo indica que a medida que aumenta la variable predictora, disminuye la variable objetivo.\n",
    "\n",
    "Ahora bien, para la variable de **hour** podemos interpretar que representa el cambio en Y asociado a un aumento de una unidad en X, manteniendo constantes todas las demás variables, es decir, el cambio en el alquiler de bicicletas si cambiamos 1 hora.\n",
    "\n",
    "Por otro lado, la variable **season** es una variable categorica. De esta manera, su interpretación es diferente a la variable de **hour**. La interpretación del coeficiente beta para *season_2* representa la diferencia en el valor medio de Y (Alquiler de bicicletas) entre la categoría de referencia (season_1) y la categoría *season_2* de la variable categórica **season**, manteniendo todas las demás variables constantes. Del mismo modo, la interpretación del coeficiente beta para *season_3* representa la diferencia en el valor medio de Y(Alquiler de bicicletas) entre la categoría de referencia (season_1) y la categoría *season_3* de la variable categórica **season**, manteniendo constantes todas las demás variables. Lo anterior, se puede aplicar para obtener la interpretación del beta de *season_4*.\n",
    "\n",
    "Una de las limitaciones del modelo de regresión lineal es que no es directamente interpretable cuando se tienen una variable con varias categorías."
   ]
  },
  {
   "cell_type": "markdown",
   "metadata": {},
   "source": [
    "### Definir las variables predictoras y la variable de respuesta \n",
    "Se utiliza \"total\" como variable de respuesta y \"season\" y \"hour\" como las únicas variables predictoras, teniendo en cuenta que la variable \"season\" es categórica. Además, se dividen los datos en conjuntos de entrenamiento y prueba."
   ]
  },
  {
   "cell_type": "code",
   "execution_count": 20,
   "metadata": {},
   "outputs": [],
   "source": [
    "bikes = bikes.reset_index(drop=True)\n",
    "bikes = bikes.loc[:, ['season', 'hour','total']]\n",
    "\n",
    "#Tener en cuenta que season la convierto a numero \n",
    "bikes['season'] = bikes['season'].astype('int')\n",
    "\n",
    "# Dividir los datos en conjuntos de entrenamiento y prueba\n",
    "X_train, X_test, y_train, y_test = train_test_split(bikes.drop(columns = \"total\"),bikes['total'])"
   ]
  },
  {
   "cell_type": "markdown",
   "metadata": {},
   "source": [
    "### Punto 4 - Árbol de decisión manual\n",
    "En la celda 4 cree un árbol de decisiones para pronosticar la variable \"total\" iterando **manualmente** sobre las variables \"hour\" y  \"season\". El árbol debe tener al menos 6 nodos finales."
   ]
  },
  {
   "cell_type": "code",
   "execution_count": null,
   "metadata": {},
   "outputs": [],
   "source": [
    "# Celda 4\n",
    "\n"
   ]
  },
  {
   "cell_type": "code",
   "execution_count": 53,
   "metadata": {},
   "outputs": [],
   "source": [
    "# Definición de la función gini_imputiry para calular la ganancia de una variable predictora j dado el punto de corte k\n",
    "def MSE_split(j):\n",
    "\n",
    "    # División de la variable Hits en num_ctp puntos (parámetro definido anteriormente) para obtener posibles puntos de corte\n",
    "    splits = np.percentile(X_train.iloc[:, j], np.arange(0, 100, 100.0 / num_pct).tolist())\n",
    "    splits = np.unique(splits)\n",
    "    \n",
    "    min_MSExSplit = []\n",
    "    \n",
    "    for split in splits: \n",
    "        filter_l = X_train.iloc[:, j] < split\n",
    "        y_l = y_train.loc[filter_l]\n",
    "        y_r = y_train.loc[~filter_l]\n",
    "\n",
    "        predict_l = np.average(y_l) # Prediccion de la particion l\n",
    "        predict_r = np.average(y_r) # Predicción de la partición r\n",
    "        \n",
    "        MSE_l = np.average( np.square(predict_l - y_l) )\n",
    "        MSE_r = np.average( np.square(predict_r - y_r) )\n",
    "        \n",
    "        min_MSExSplit.append(min(MSE_l,MSE_r))\n",
    "        \n",
    "    df_min_MSE = pd.DataFrame([splits, min_MSExSplit]).T.rename({0:'Splits',1:'MSE_split'},axis=1)\n",
    "    best_split = df_min_MSE.loc[df_min_MSE['MSE_split'].idxmin()]['Splits']\n",
    "    best_MSE = df_min_MSE.loc[df_min_MSE['MSE_split'].idxmin()]['MSE_split']\n",
    "\n",
    "    return  best_split,best_MSE\n"
   ]
  },
  {
   "cell_type": "code",
   "execution_count": 54,
   "metadata": {},
   "outputs": [],
   "source": [
    "# Definición de la función best_split para calcular cuál es la mejor variable y punto de corte para hacer la bifurcación del árbol\n",
    "def best_split(X, num_pct=10):\n",
    "    \n",
    "    features = range(X.shape[1])\n",
    "    \n",
    "    lista_split_particion = []\n",
    "    # Para todas las varibles \n",
    "    for j in features:\n",
    "        #Esta función me devuelve para cada variable cual es la mejor partición y su MSE\n",
    "        MSExsplitxvariable = MSE_split(j)\n",
    "        lista_split_particion.append(MSExsplitxvariable)\n",
    "    \n",
    "    df_j_splits = pd.DataFrame(lista_split_particion, columns=[ 'Splits', 'MSE_split'])\n",
    "    \n",
    "    j_feature = pd.DataFrame(features, columns=['Variable'])\n",
    "\n",
    "    df_best_split = pd.concat([j_feature, df_j_splits],axis = 1)\n",
    "    \n",
    "    best_MSE = df_best_split.loc[df_best_split['MSE_split'].idxmin()]['MSE_split']\n",
    "    best_split = df_best_split.loc[df_best_split['MSE_split'].idxmin()]['Splits']\n",
    "    best_j = df_best_split.loc[df_best_split['MSE_split'].idxmin()]['Variable']\n",
    "    \n",
    "    best_split = [best_j, best_split, best_MSE]  # j, split, MSE\n",
    "    \n",
    "    return best_split"
   ]
  },
  {
   "cell_type": "code",
   "execution_count": 55,
   "metadata": {},
   "outputs": [
    {
     "data": {
      "text/plain": [
       "[1.0, 4.0, 1156.9505659924578]"
      ]
     },
     "execution_count": 55,
     "metadata": {},
     "output_type": "execute_result"
    }
   ],
   "source": [
    "best_split(X_train, num_pct=10)"
   ]
  },
  {
   "cell_type": "code",
   "execution_count": 59,
   "metadata": {},
   "outputs": [],
   "source": [
    "# Definición de la función tree_grow para hacer un crecimiento recursivo del árbol\n",
    "def tree_grow(X, level=0, min_gain=0.001, max_depth=None, num_pct=10):\n",
    "\n",
    "    # Calcular la mejor división\n",
    "    j, split, MSE = best_split(X, num_pct)\n",
    "    \n",
    "    # Guardar el árbol y estimar la predicción\n",
    "    y_pred = int(y.mean() >= 0.5) \n",
    "    y_prob = (y.sum() + 1.0) / (y.shape[0] + 2.0)  # Corrección Laplace \n",
    "    \n",
    "    tree = dict(y_pred=y_pred, y_prob=y_prob, level=level, split=-1, n_samples=X.shape[0], gain=gain)\n",
    "    # Revisar el criterio de parada \n",
    "    if gain < min_gain:\n",
    "        return tree\n",
    "    if max_depth is not None:\n",
    "        if level >= max_depth:\n",
    "            return tree   \n",
    "    \n",
    "    # Continuar creando la partición\n",
    "    filter_l = X.iloc[:, j] < split\n",
    "    X_l, y_l = X.loc[filter_l], y.loc[filter_l]\n",
    "    X_r, y_r = X.loc[~filter_l], y.loc[~filter_l]\n",
    "    tree['split'] = [j, split]\n",
    "\n",
    "    # Siguiente iteración para cada partición\n",
    "    \n",
    "    tree['sl'] = tree_grow(X_l, y_l, level + 1, min_gain=min_gain, max_depth=max_depth, num_pct=num_pct)\n",
    "    tree['sr'] = tree_grow(X_r, y_r, level + 1, min_gain=min_gain, max_depth=max_depth, num_pct=num_pct)\n",
    "    \n",
    "    return tree"
   ]
  },
  {
   "cell_type": "markdown",
   "metadata": {},
   "source": [
    "### Punto 5 - Árbol de decisión con librería\n",
    "En la celda 5 entrene un árbol de decisiones con la **librería sklearn**, usando las variables predictoras \"season\" y \"hour\" y calibre los parámetros que considere conveniente para obtener un mejor desempeño. Recuerde dividir los datos en conjuntos de entrenamiento y validación para esto. Comente el desempeño del modelo con alguna métrica de desempeño de modelos de regresión y compare desempeño con el modelo del punto 3."
   ]
  },
  {
   "cell_type": "code",
   "execution_count": null,
   "metadata": {},
   "outputs": [],
   "source": [
    "# Celda 5\n",
    "from sklearn.tree import DecisionTreeRegressor # árbol de decisión para regresión\n",
    "from sklearn.model_selection import cross_val_score\n",
    "\n",
    "#Definimos el algoritmo a utilizar\n",
    "tree_P5 = DecisionTreeRegressor(max_depth = 6)\n",
    "\n",
    "#Entrenamos el modelo\n",
    "tree_P5.fit(X_train, y_train)"
   ]
  },
  {
   "cell_type": "markdown",
   "metadata": {},
   "source": [
    "### Calibración"
   ]
  },
  {
   "cell_type": "code",
   "execution_count": null,
   "metadata": {},
   "outputs": [],
   "source": [
    "# Lista de valores para calibrar el criterio de parada de máxima profundidad (max_depth)\n",
    "max_depth_range = range(1, 21)\n",
    "\n",
    "# Lista para guardar los valores del MSE para cada valor de máxima profundidad (max_depth)\n",
    "mse_scores = []\n",
    "\n",
    "# Loop para obtener el desempeño del modelo de acuerdo con la máxima profundidad\n",
    "for depth in max_depth_range:\n",
    "    # Definición del árbol de decisión usando DecisionTreeClassifier de la libreria sklearn\n",
    "    clf = DecisionTreeRegressor(max_depth=depth, random_state=1)\n",
    "    mse_scores.append(cross_val_score(clf, X_train, y_train, cv=10, scoring='neg_mean_squared_error').mean()*-1)\n",
    "\n",
    "print(\"Calibracion del parametro max_depth\")\n",
    "# Gráfica max_depth versus MSE (error del modelo)\n",
    "plt.plot(max_depth_range, mse_scores)\n",
    "plt.xlabel('max_depth')\n",
    "plt.ylabel('MSE')\n",
    "plt.show()"
   ]
  },
  {
   "cell_type": "code",
   "execution_count": null,
   "metadata": {},
   "outputs": [],
   "source": [
    "# Estructura del árbol creado\n",
    "print(f\"Profundidad del árbol: {tree_P5.get_depth()}\")\n",
    "print(f\"Número de nodos terminales: {tree_P5.get_n_leaves()}\")"
   ]
  },
  {
   "cell_type": "code",
   "execution_count": null,
   "metadata": {},
   "outputs": [],
   "source": [
    "# Mejor MSE (desempeño del modelo) y su correspondiente max_depth\n",
    "MSE_Tree = sorted(zip(mse_scores, max_depth_range), reverse = True)[::-1][0]\n",
    "MSE_Tree"
   ]
  },
  {
   "cell_type": "code",
   "execution_count": null,
   "metadata": {},
   "outputs": [],
   "source": [
    "fig = plt.figure()\n",
    "ax = fig.add_axes([0,0,1,0.8])\n",
    "ax.set_title(\"Comparación de modelos\")\n",
    "ejeX = ['Linear Regression', 'Decision Tree Regressor']\n",
    "ejeY = [round(MSE_LR,2),round(MSE_Tree[0],2)]\n",
    "ax.bar(ejeX,ejeY)\n",
    "\n",
    "def addlabels(x,y,plotP):\n",
    "    for i in range(len(x)):\n",
    "        plotP.text(i,y[i],y[i])\n",
    "        \n",
    "addlabels(ejeX,ejeY,plt)\n",
    "plt.show()\n",
    "\n",
    "index = int([np.argmin(ejeY)][0])\n",
    "if index == 0:\n",
    "    strDecision = \"Regresión linear\"\n",
    "if index == 1:\n",
    "    strDecision = \"Arbol de decisión\"\n",
    "print(\"\")\n",
    "print('El mejor modelo es: ' + strDecision )\n",
    "print(\"\")"
   ]
  },
  {
   "cell_type": "markdown",
   "metadata": {},
   "source": [
    "### Análisis de resultados - Punto 5\n",
    "\n",
    "Se entrenó un árbol de decisiones con la **librería sklearn**, usando las variables predictoras *season* y *hour*. Además, se calibraron los parámetros refentes a la máxima profundidad del arbol. La profundidad que minimiza el MSE es igual a 9, con un MSE de 13132. Teniendo en cuenta la gráfica de barras presentada que compara el modelo del arbol de decisión con el modelo de regresión linear realizado en el Punto 3, podemos concluir que el mejor modelo es el **árbol de decisión** pues presenta un menor MSE."
   ]
  },
  {
   "cell_type": "markdown",
   "metadata": {},
   "source": [
    "## Parte B - Métodos de ensamblajes\n",
    "En esta parte del taller se usará el conjunto de datos de Popularidad de Noticias Online. El objetivo es predecir si la notica es popular o no, la popularidad está dada por la cantidad de reacciones en redes sociales. Para más detalles puede visitar el siguiente enlace: [datos](https://archive.ics.uci.edu/ml/datasets/online+news+popularity)."
   ]
  },
  {
   "cell_type": "markdown",
   "metadata": {},
   "source": [
    "### Datos popularidad de noticias"
   ]
  },
  {
   "cell_type": "code",
   "execution_count": null,
   "metadata": {},
   "outputs": [],
   "source": [
    "# Lectura de la información de archivo .csv\n",
    "df = pd.read_csv('https://raw.githubusercontent.com/davidzarruk/MIAD_ML_NLP_2023/main/datasets/mashable.csv', index_col=0)\n",
    "df.head()"
   ]
  },
  {
   "cell_type": "code",
   "execution_count": null,
   "metadata": {},
   "outputs": [],
   "source": [
    "# Definición variable de interes y variables predictoras\n",
    "X = df.drop(['url', 'Popular'], axis=1)\n",
    "y = df['Popular']\n",
    "y.mean()"
   ]
  },
  {
   "cell_type": "code",
   "execution_count": null,
   "metadata": {},
   "outputs": [],
   "source": [
    "# División de la muestra en set de entrenamiento y prueba\n",
    "from sklearn.model_selection import train_test_split\n",
    "X_train, X_test, y_train, y_test = train_test_split(X, y, random_state=1)"
   ]
  },
  {
   "cell_type": "markdown",
   "metadata": {},
   "source": [
    "### Punto 6 - Árbol de decisión y regresión logística\n",
    "En la celda 6 construya un árbol de decisión y una regresión logística. Para el árbol calibre al menos un parámetro y evalúe el desempeño de cada modelo usando las métricas de Accuracy y F1-Score."
   ]
  },
  {
   "cell_type": "code",
   "execution_count": null,
   "metadata": {},
   "outputs": [],
   "source": [
    "# Celda 6\n",
    "from sklearn.tree import DecisionTreeClassifier\n",
    "from sklearn.model_selection import cross_val_score\n",
    "from sklearn import metrics\n",
    "\n",
    "# Arbol de decisión --------------------------------------------------------------------------------------------------------\n",
    "# Lista de valores para calibrar el criterio de parada de máxima profundidad (max_depth)\n",
    "max_depth_range = range(1, 21)\n",
    "\n",
    "# Lista para guardar los valores del RMSE para cada valor de máxima profundidad (max_depth)\n",
    "accuracy_scores = []\n",
    "\n",
    "# Loop para obtener el desempeño del modelo de acuerdo con la máxima profundidad\n",
    "for depth in max_depth_range:\n",
    "    # Definición del árbol de decisión usando DecisionTreeClassifier de la libreria sklearn\n",
    "    clf = DecisionTreeClassifier(max_depth=depth, random_state=1)\n",
    "    accuracy_scores.append(cross_val_score(clf, X_train, y_train, cv=10, scoring='accuracy').mean())\n",
    "\n",
    "# Gráfica max_depth versus RMSE (error del modelo)\n",
    "plt.plot(max_depth_range, accuracy_scores)\n",
    "plt.xlabel('max_depth')\n",
    "plt.ylabel('Accuracy')\n",
    "\n",
    "# Mejor accuracy (desempeño del modelo) y su correspondiente max_depth\n",
    "print(\"La maxima profundidad del arbol que tiene el mayor Accuracy es: \" +  str(sorted(zip(accuracy_scores, max_depth_range))[::-1][0][1]))\n",
    "print(\"\")\n",
    "print(\"El Accuracy del árbol calibrado es \" +  str(sorted(zip(accuracy_scores, max_depth_range))[::-1][0][0]))\n",
    "print(\"\")\n",
    "#Predecir la variable y con el arbol de desicion calibrado\n",
    "y_predTree = DecisionTreeClassifier(max_depth= sorted(zip(accuracy_scores, max_depth_range))[::-1][0][1] , random_state=1).fit(X, y).predict(X_test)\n",
    "print(\"El F1-Score para el modelo de árbol es \"+ str(metrics.f1_score(y_predTree, y_test)))"
   ]
  },
  {
   "cell_type": "code",
   "execution_count": null,
   "metadata": {},
   "outputs": [],
   "source": [
    "# Regresión logística ------------------------------------------------------------------------------------------------------\n",
    "\n",
    "from sklearn.linear_model import LogisticRegression\n",
    "print(\"Estimando Modelo de Regresión logística\")\n",
    "\n",
    "clfRegLog= LogisticRegression(random_state=0,max_iter=10000) # Generar un modelo\n",
    "clfRegLog.fit(X_train,y_train) #Estimar el modelo \n",
    "y_predReglog = clfRegLog.predict(X_test) #Predecir con el modelo de regresion logistica\n",
    "print(\"Modelo estimado\")\n",
    "print(\"\")\n",
    "print(\"El Acurracy del modelo de regresión logística es \" +  str(metrics.accuracy_score(y_predReglog, y_test)))\n",
    "print(\"El F1-Score para el modelo de regresión logística es \"+ str(metrics.f1_score(y_predReglog, y_test)))\n",
    "print(\"\\n\")\n"
   ]
  },
  {
   "cell_type": "markdown",
   "metadata": {},
   "source": [
    "### Análisis de resultados - Punto 6 \n",
    "\n",
    "En ese numeral, se construyeron 2 modelos: un árbol de decisión y una regresión logística. Para el árbol, se calibró el criterio de parada de máxima profundidad (max_depth). Obteniendo que la maxima profundidad del arbol que tiene el mayor Accuracy es: 2. \n",
    "\n",
    "Ahora bien, se evaluó el desempeño de cada modelo usando las métricas de Accuracy y F1-Score. El Accuracy y el F1-Score son dos métricas utilizadas habitualmente para evaluar el rendimiento de un modelo de clasificación. El Accuracy es la proporción de instancias clasificadas correctamente sobre el número total de instancias del conjunto de datos. Mide la frecuencia con la que el modelo predice correctamente la clase verdadera de una instancia. Teniendo en cuenta el accuracy de cada modelo, podemos concluir que el árbol de decisión presenta una puntuación de precisión más alta que el modelo de regresión logística así indica que el modelo funciona mejor a la hora de clasificar correctamente los casos.\n",
    "\n",
    "El F1-Score es la media armónica de la precisión y la recuperación, otras dos métricas utilizadas habitualmente para los modelos de clasificación. La precisión mide la proporción de predicciones positivas verdaderas sobre todas las predicciones positivas, mientras que la recuperación mide la proporción de predicciones positivas verdaderas sobre todas las predicciones positivas reales del conjunto de datos. La puntuación F1 equilibra estas dos métricas, proporcionando una única puntuación que refleja tanto la precisión como la recuperación. Teniendo en cuenta el F1-Score de cada modelo, podemos concluir que el modelo del árbol de decisión tiene un F1-Score más alto que el modelo de regresión logística así tiene un mejor equilibrio entre precisión y recuperación que la regresión logística."
   ]
  },
  {
   "cell_type": "markdown",
   "metadata": {},
   "source": [
    "### Punto 7 - Votación Mayoritaria\n",
    "En la celda 7 elabore un esamble con la metodología de **Votación mayoritaria** compuesto por 300 muestras bagged para cada uno de los siguientes escenarios:\n",
    "\n",
    "-100 árboles de decisión donde max_depth tome un valor de su elección\\\n",
    "-100 árboles de decisión donde min_samples_leaf tome un valor de su elección\\\n",
    "-100 regresiones logísticas\n",
    "\n",
    "Evalúe cada uno de los tres modelos de manera independiente utilizando las métricas de Accuracy y F1-Score, luego evalúe el ensamble de modelos y compare los resultados. "
   ]
  },
  {
   "cell_type": "code",
   "execution_count": null,
   "metadata": {},
   "outputs": [],
   "source": [
    "# Celda 7\n",
    "\n",
    "from sklearn.ensemble import BaggingClassifier\n",
    "\n",
    "# Uso de BaggingRegressor de la libreria (sklearn) para estimar los diferentes modelos. \n",
    "\n",
    "bagg100TreeDepth2 = BaggingClassifier(DecisionTreeClassifier(max_depth=2), n_estimators = 100, \n",
    "                          bootstrap=True, oob_score=True , max_samples = 300, random_state=1,n_jobs=-1)\n",
    "\n",
    "bagg100TreeMinSampleLeaf = BaggingClassifier(DecisionTreeClassifier(max_depth=None,min_samples_leaf=6), n_estimators = 100, \n",
    "                          bootstrap=True, oob_score=True , max_samples = 300, random_state=1,n_jobs=-1)\n",
    "\n",
    "bagg100RegLog = BaggingClassifier(LogisticRegression(random_state=1,max_iter=1000), n_estimators = 100, \n",
    "                          bootstrap=True, oob_score=True , max_samples = 300, random_state=1,n_jobs=-1)\n"
   ]
  },
  {
   "cell_type": "code",
   "execution_count": null,
   "metadata": {},
   "outputs": [],
   "source": [
    "# Entrenemiento de los modelos con set de entrenamiento y predicción en el set de test\n",
    "\n",
    "print('\\n')\n",
    "print(\"Entrenamos modelo Tree Depth = 2\")\n",
    "bagg100TreeDepth2.fit(X_train, y_train)\n",
    "y_predbagg100TreeDepth2 = bagg100TreeDepth2.predict(X_test)\n",
    "print('Modelo Entrenado')\n",
    "print(\"\")\n",
    "print('El F1-Score y el Acurracy del modelo bagging de Árbol con MaxDepth = 2 son respectivamente')\n",
    "print(metrics.f1_score(y_predbagg100TreeDepth2, y_test), metrics.accuracy_score(y_predbagg100TreeDepth2, y_test))\n",
    "\n",
    "print('\\n')\n",
    "print(\"Entrenamos modelo Tree min samples leaf = 10\")\n",
    "bagg100TreeMinSampleLeaf.fit(X_train, y_train)\n",
    "y_predbagg100MinSampleLeaf = bagg100TreeMinSampleLeaf.predict(X_test)\n",
    "print('Modelo Entrenado')\n",
    "print(\"\")\n",
    "print('El F1-Score y el Acurracy del modelo bagging de Árbol con min samples leaf = 10 son respectivamente')\n",
    "print(metrics.f1_score(y_predbagg100MinSampleLeaf, y_test), metrics.accuracy_score(y_predbagg100MinSampleLeaf, y_test))\n",
    "\n",
    "print('\\n')\n",
    "print(\"Entrenamos modelo Reg Logística\")\n",
    "bagg100RegLog.fit(X_train, y_train)\n",
    "y_predbagg100RegLog = bagg100RegLog.predict(X_test)\n",
    "print('Modelo Entrenado')\n",
    "print(\"\")\n",
    "print('El F1-Score y el Acurracy del modelo Reg Logística son respectivamente')\n",
    "print(metrics.f1_score(y_predbagg100RegLog, y_test), metrics.accuracy_score(y_predbagg100RegLog, y_test))"
   ]
  },
  {
   "cell_type": "markdown",
   "metadata": {},
   "source": [
    "### Análisis de resultados - Punto 7\n",
    "\n",
    "Teniendo en cuenta los resultados, podemos concluir que según las métricas F1_Score y Acurracy, el mejor modelo de los 3 ensamblajes presentados es el modelo **Bagging Árbol de decisión con mínimo número de hojas de 10 con votación mayoritaria** \n",
    "\n",
    "Cabe mencionar que, establecer un valor más alto para min_samples_leaf para los árboles de decisión individuales puede conducir a un conjunto más robusto y menos sobreajustado. Sin embargo, también puede conducir a un mayor sesgo en el modelo, ya que los árboles de decisión pueden no ser capaces de capturar toda la complejidad de los datos con menos nodos hoja. "
   ]
  },
  {
   "cell_type": "markdown",
   "metadata": {},
   "source": [
    "### Punto 8 - Votación Ponderada\n",
    "En la celda 8 elabore un ensamble con la metodología de **Votación ponderada** compuesto por 300 muestras bagged para los mismos tres escenarios del punto 7. Evalúe los modelos utilizando las métricas de Accuracy y F1-Score"
   ]
  },
  {
   "cell_type": "code",
   "execution_count": null,
   "metadata": {},
   "outputs": [],
   "source": [
    "# Celda 8\n",
    "\n",
    "#Votación ponderada para el modelo bagging de Árbol con MaxDepth = 2\n",
    "errors = np.zeros(bagg100TreeDepth2.n_estimators)\n",
    "y_pred_all_ = np.zeros( (X_test.shape[0], bagg100TreeDepth2.n_estimators) )\n",
    "for i in range(bagg100TreeDepth2.n_estimators):\n",
    "    oob_sample = ~bagg100TreeDepth2.estimators_samples_[i]\n",
    "    y_pred_ = bagg100TreeDepth2.estimators_[i].predict(X_train.values[oob_sample])\n",
    "    errors[i] = metrics.accuracy_score(y_pred_, y_train.values[oob_sample])\n",
    "    y_pred_all_[:, i] = bagg100TreeDepth2.estimators_[i].predict(X_test)\n",
    "alpha = (1 - errors) / (1 - errors).sum()\n",
    "y_pred = (np.sum(y_pred_all_ * alpha, axis=1) >= 0.5).astype(np.int)\n",
    "# Metricas con votación ponderada\n",
    "print('El F1-Score y el Acurracy del modelo bagging de Árbol con MaxDepth = 2 y votación ponderada son respectivamente')\n",
    "print(metrics.f1_score(y_pred, y_test), metrics.accuracy_score(y_pred, y_test))\n",
    "\n",
    "print('\\n')\n",
    "#Votación ponderada para el modelo bagging de Árbol con min samples leaf = 10\n",
    "errors = np.zeros(bagg100TreeMinSampleLeaf.n_estimators)\n",
    "y_pred_all_ = np.zeros( (X_test.shape[0], bagg100TreeMinSampleLeaf.n_estimators) )\n",
    "\n",
    "for i in range(bagg100TreeMinSampleLeaf.n_estimators):\n",
    "    oob_sample = ~bagg100TreeMinSampleLeaf.estimators_samples_[i]\n",
    "    y_pred_ = bagg100TreeMinSampleLeaf.estimators_[i].predict(X_train.values[oob_sample])\n",
    "    errors[i] = metrics.accuracy_score(y_pred_, y_train.values[oob_sample])\n",
    "    y_pred_all_[:, i] = bagg100TreeMinSampleLeaf.estimators_[i].predict(X_test)\n",
    "alpha = (1 - errors) / (1 - errors).sum()\n",
    "y_pred = (np.sum(y_pred_all_ * alpha, axis=1) >= 0.5).astype(np.int)\n",
    "# Metricas con votación ponderada\n",
    "print('El F1-Score y el Acurracy del modelo bagging de Árbol min samples leaf = 10 y votación ponderada son respectivamente')\n",
    "print(metrics.f1_score(y_pred, y_test), metrics.accuracy_score(y_pred, y_test))\n",
    "\n",
    "print('\\n')\n",
    "#Votación ponderada para el modelo Reg Logística\n",
    "errors = np.zeros(bagg100RegLog.n_estimators)\n",
    "y_pred_all_ = np.zeros( (X_test.shape[0], bagg100RegLog.n_estimators) )\n",
    "\n",
    "for i in range(bagg100RegLog.n_estimators):\n",
    "    oob_sample = ~bagg100RegLog.estimators_samples_[i]\n",
    "    y_pred_ = bagg100RegLog.estimators_[i].predict(X_train.values[oob_sample])\n",
    "    errors[i] = metrics.accuracy_score(y_pred_, y_train.values[oob_sample])\n",
    "    y_pred_all_[:, i] = bagg100RegLog.estimators_[i].predict(X_test)  \n",
    "alpha = (1 - errors) / (1 - errors).sum()\n",
    "y_pred = (np.sum(y_pred_all_ * alpha, axis=1) >= 0.5).astype(np.int)\n",
    "# Metricas con votación ponderada\n",
    "print('El F1-Score y el Acurracy del modelo regresión logística con votación ponderada son respectivamente')\n",
    "print(metrics.f1_score(y_pred, y_test), metrics.accuracy_score(y_pred, y_test))\n"
   ]
  },
  {
   "cell_type": "markdown",
   "metadata": {},
   "source": [
    "### Análisis de resultados - Punto 8\n",
    "\n",
    "Teniendo en cuenta los resultados, podemos concluir que según la métrica del Acurracy, el mejor modelo de los 3 ensamblajes presentados es el modelo **Bagging Árbol de decisión con mínimo número de hojas de 10 con votación ponderada**. Por otro lado, según la métrica del F1-Score, el mejor modelo de los 3 ensamblajes presentados es el modelo **Bagging Árbol de decisión con profundidad máxima de 2 con votación ponderada**."
   ]
  },
  {
   "cell_type": "markdown",
   "metadata": {},
   "source": [
    "### Punto 9 - Comparación y análisis de resultados\n",
    "En la celda 9 comente sobre los resultados obtenidos con las metodologías usadas en los puntos 7 y 8, compare los resultados y enuncie posibles ventajas o desventajas de cada una de ellas."
   ]
  },
  {
   "cell_type": "markdown",
   "metadata": {},
   "source": [
    "# Celda 9\n",
    "\n",
    "En los numerales 7 y 8, se generaron los siguientes ensamblajes con diferentes tipos de clasificadores:\n",
    "\n",
    "1. 100 árboles de decisión donde max_depth tome un valor de su elección\\\n",
    "2. 100 árboles de decisión donde min_samples_leaf tome un valor de su elección\\\n",
    "3. 100 regresiones logísticas\n",
    "\n",
    "Para cada clasificador se generaron 300 muestras a partir de bootstrap. Finalmente, pare realizar la predicción de cada ensamblaje se propuso: \n",
    " \n",
    " **En el punto 7:** Las predicciones se realizaron por el método de **votación mayoritaria**, es decir, se escoge como predicción final aquella clase que tenga la mayoría de las predicciones a su favor. Esto quiere decir que se le da el mismo \"peso\" a todas las predicciones sin importar el error de cada modelo. \n",
    " \n",
    " **En el punto 8:** Las predicciones se hicieron por el método de **votación ponderada**, esto significa que la predicción final depende de una ponderación porcentual de todas las predicciones. Aquellas predicciones que aportan *más* a la predicción final son las que vienen de un modelo con error OOB bajo. De igual manera, las predicciones que *menos* aportan a la predicción final son aquellas que tiene un error OOB mayor.\n",
    " \n",
    "Teniendo en cuenta los resultados obtenidos en los numerales 7 y 8, podemos concluir que no para los 3 ensamblajes las métricas estan mejorando. En general, la mejora en las métricas es pequeña y son mayores en **votación mayoritaria**. Lo anteior, puede deberse a que si los modelos base tienen un rendimiento similar, la votación mayoritaria puede ser suficiente para reducir la varianza y mejorar la precisión general del modelo de ensamble. \n",
    "\n",
    "Ahora bien, la metodología de Bagging por votación mayoritaria puede funcionar bien cuando las clases están equilibradas en el conjunto de datos. Sin embargo, puede no ser óptimo en situaciones de clases desequilibradas, ya que los modelos que predicen la clase mayoritaria pueden dominar la votación y dar lugar a resultados sesgados. También, hay que considerar que los modelos que tienen un rendimiento inferior pueden reducir la precisión global de la predicción.\n",
    "\n",
    "Por otro lado, la metodolgía de Bagging por votación ponderada permite que los modelos más confiables tengan un mayor peso en la votación final.Así, puede manejar mejor situaciones de clases desequilibradas que la votación mayoritaria. Sin embargo, es necesario mencionar que puede ser difícil determinar la ponderación adecuada para cada modelo. También, puede tener un rendimiento inferior a la votación mayoritaria cuando los modelos son similares en rendimiento."
   ]
  }
 ],
 "metadata": {
  "kernelspec": {
   "display_name": "Python 3 (ipykernel)",
   "language": "python",
   "name": "python3"
  },
  "language_info": {
   "codemirror_mode": {
    "name": "ipython",
    "version": 3
   },
   "file_extension": ".py",
   "mimetype": "text/x-python",
   "name": "python",
   "nbconvert_exporter": "python",
   "pygments_lexer": "ipython3",
   "version": "3.9.7"
  }
 },
 "nbformat": 4,
 "nbformat_minor": 4
}
